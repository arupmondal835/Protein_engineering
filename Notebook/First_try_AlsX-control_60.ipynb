{
 "cells": [
  {
   "cell_type": "markdown",
   "id": "bedf1a0d-bdcc-45d4-a25b-e63512bb1f21",
   "metadata": {},
   "source": [
    "## Predict pH optimum and range directly\n",
    "- Previous I used the difference in activity as the loss funciton\n",
    "- What if we just fit a normal distribution to each protein/experiment, and try to predict the mean (optimum) and standard deviation (range) directly?\n",
    "\n",
    "20240411: Try many other ML methods"
   ]
  },
  {
   "cell_type": "code",
   "execution_count": 1,
   "id": "6c939252-6652-4577-914c-349f03376a17",
   "metadata": {},
   "outputs": [
    {
     "name": "stderr",
     "output_type": "stream",
     "text": [
      "/home/amondal2/.conda-envs/prot-eng/lib/python3.10/site-packages/tqdm/auto.py:21: TqdmWarning: IProgress not found. Please update jupyter and ipywidgets. See https://ipywidgets.readthedocs.io/en/stable/user_install.html\n",
      "  from .autonotebook import tqdm as notebook_tqdm\n"
     ]
    }
   ],
   "source": [
    "import numpy as np\n",
    "import pandas as pd\n",
    "import os\n",
    "import itertools\n",
    "from typing import List, Tuple\n",
    "import string\n",
    "from pathlib import Path\n",
    "from tqdm.auto import tqdm, trange\n",
    "\n",
    "import matplotlib.pyplot as plt\n",
    "import seaborn as sns\n",
    "\n",
    "%matplotlib inline"
   ]
  },
  {
   "cell_type": "code",
   "execution_count": 2,
   "id": "f203ac03-82c5-495d-aaa8-89a67f756bc4",
   "metadata": {},
   "outputs": [],
   "source": [
    "from sklearn.metrics import mean_squared_error\n",
    "from scipy.stats import spearmanr, pearsonr\n",
    "from sklearn.linear_model import LinearRegression, Ridge\n",
    "from sklearn.kernel_ridge import KernelRidge"
   ]
  },
  {
   "cell_type": "code",
   "execution_count": 9,
   "id": "c3d812a8-cebf-4f05-9904-8b4023a2b242",
   "metadata": {},
   "outputs": [
    {
     "name": "stdout",
     "output_type": "stream",
     "text": [
      "Collecting torch==2.5.0\n",
      "  Downloading torch-2.5.0-cp310-cp310-manylinux1_x86_64.whl.metadata (28 kB)\n",
      "Requirement already satisfied: filelock in /home/amondal2/.local/lib/python3.10/site-packages (from torch==2.5.0) (3.16.1)\n",
      "Requirement already satisfied: typing-extensions>=4.8.0 in /home/amondal2/.local/lib/python3.10/site-packages (from torch==2.5.0) (4.12.2)\n",
      "Requirement already satisfied: networkx in /home/amondal2/.local/lib/python3.10/site-packages (from torch==2.5.0) (3.4.2)\n",
      "Requirement already satisfied: jinja2 in /home/amondal2/.local/lib/python3.10/site-packages (from torch==2.5.0) (3.1.4)\n",
      "Requirement already satisfied: fsspec in /home/amondal2/.local/lib/python3.10/site-packages (from torch==2.5.0) (2024.10.0)\n",
      "Requirement already satisfied: nvidia-cuda-nvrtc-cu12==12.4.127 in /home/amondal2/.local/lib/python3.10/site-packages (from torch==2.5.0) (12.4.127)\n",
      "Requirement already satisfied: nvidia-cuda-runtime-cu12==12.4.127 in /home/amondal2/.local/lib/python3.10/site-packages (from torch==2.5.0) (12.4.127)\n",
      "Requirement already satisfied: nvidia-cuda-cupti-cu12==12.4.127 in /home/amondal2/.local/lib/python3.10/site-packages (from torch==2.5.0) (12.4.127)\n",
      "Requirement already satisfied: nvidia-cudnn-cu12==9.1.0.70 in /home/amondal2/.local/lib/python3.10/site-packages (from torch==2.5.0) (9.1.0.70)\n",
      "Requirement already satisfied: nvidia-cublas-cu12==12.4.5.8 in /home/amondal2/.local/lib/python3.10/site-packages (from torch==2.5.0) (12.4.5.8)\n",
      "Requirement already satisfied: nvidia-cufft-cu12==11.2.1.3 in /home/amondal2/.local/lib/python3.10/site-packages (from torch==2.5.0) (11.2.1.3)\n",
      "Requirement already satisfied: nvidia-curand-cu12==10.3.5.147 in /home/amondal2/.local/lib/python3.10/site-packages (from torch==2.5.0) (10.3.5.147)\n",
      "Requirement already satisfied: nvidia-cusolver-cu12==11.6.1.9 in /home/amondal2/.local/lib/python3.10/site-packages (from torch==2.5.0) (11.6.1.9)\n",
      "Requirement already satisfied: nvidia-cusparse-cu12==12.3.1.170 in /home/amondal2/.local/lib/python3.10/site-packages (from torch==2.5.0) (12.3.1.170)\n",
      "Requirement already satisfied: nvidia-nccl-cu12==2.21.5 in /home/amondal2/.local/lib/python3.10/site-packages (from torch==2.5.0) (2.21.5)\n",
      "Requirement already satisfied: nvidia-nvtx-cu12==12.4.127 in /home/amondal2/.local/lib/python3.10/site-packages (from torch==2.5.0) (12.4.127)\n",
      "Requirement already satisfied: nvidia-nvjitlink-cu12==12.4.127 in /home/amondal2/.local/lib/python3.10/site-packages (from torch==2.5.0) (12.4.127)\n",
      "Requirement already satisfied: triton==3.1.0 in /home/amondal2/.local/lib/python3.10/site-packages (from torch==2.5.0) (3.1.0)\n",
      "Requirement already satisfied: sympy==1.13.1 in /home/amondal2/.local/lib/python3.10/site-packages (from torch==2.5.0) (1.13.1)\n",
      "Requirement already satisfied: mpmath<1.4,>=1.1.0 in /home/amondal2/.local/lib/python3.10/site-packages (from sympy==1.13.1->torch==2.5.0) (1.3.0)\n",
      "Requirement already satisfied: MarkupSafe>=2.0 in /home/amondal2/.local/lib/python3.10/site-packages (from jinja2->torch==2.5.0) (3.0.2)\n",
      "Downloading torch-2.5.0-cp310-cp310-manylinux1_x86_64.whl (906.4 MB)\n",
      "\u001b[2K   \u001b[90m━━━━━━━━━━━━━━━━━━━━━━━━━━━━━━━━━━━━━━━━\u001b[0m \u001b[32m906.4/906.4 MB\u001b[0m \u001b[31m14.2 MB/s\u001b[0m eta \u001b[36m0:00:00\u001b[0m00:01\u001b[0m00:01\u001b[0m\n",
      "\u001b[?25hInstalling collected packages: torch\n",
      "  Attempting uninstall: torch\n",
      "    Found existing installation: torch 2.2.2\n",
      "    Uninstalling torch-2.2.2:\n",
      "      Successfully uninstalled torch-2.2.2\n",
      "Successfully installed torch-2.5.0\n"
     ]
    }
   ],
   "source": [
    "!pip install torch==2.5.0"
   ]
  },
  {
   "cell_type": "code",
   "execution_count": 11,
   "id": "6dca5874-4b73-4fe3-a03a-f99b711259a6",
   "metadata": {},
   "outputs": [
    {
     "ename": "ImportError",
     "evalue": "libcudnn.so.9: cannot open shared object file: No such file or directory",
     "output_type": "error",
     "traceback": [
      "\u001b[0;31m---------------------------------------------------------------------------\u001b[0m",
      "\u001b[0;31mImportError\u001b[0m                               Traceback (most recent call last)",
      "Cell \u001b[0;32mIn[11], line 1\u001b[0m\n\u001b[0;32m----> 1\u001b[0m \u001b[38;5;28;01mimport\u001b[39;00m \u001b[38;5;21;01mtorch\u001b[39;00m\n\u001b[1;32m      2\u001b[0m torch\u001b[38;5;241m.\u001b[39mcuda\u001b[38;5;241m.\u001b[39mis_available()\n",
      "File \u001b[0;32m~/.conda-envs/prot-eng/lib/python3.10/site-packages/torch/__init__.py:368\u001b[0m\n\u001b[1;32m    366\u001b[0m     \u001b[38;5;28;01mif\u001b[39;00m USE_GLOBAL_DEPS:\n\u001b[1;32m    367\u001b[0m         _load_global_deps()\n\u001b[0;32m--> 368\u001b[0m     \u001b[38;5;28;01mfrom\u001b[39;00m \u001b[38;5;21;01mtorch\u001b[39;00m\u001b[38;5;21;01m.\u001b[39;00m\u001b[38;5;21;01m_C\u001b[39;00m \u001b[38;5;28;01mimport\u001b[39;00m \u001b[38;5;241m*\u001b[39m  \u001b[38;5;66;03m# noqa: F403\u001b[39;00m\n\u001b[1;32m    371\u001b[0m \u001b[38;5;28;01mclass\u001b[39;00m \u001b[38;5;21;01mSymInt\u001b[39;00m:\n\u001b[1;32m    372\u001b[0m \u001b[38;5;250m    \u001b[39m\u001b[38;5;124;03m\"\"\"\u001b[39;00m\n\u001b[1;32m    373\u001b[0m \u001b[38;5;124;03m    Like an int (including magic methods), but redirects all operations on the\u001b[39;00m\n\u001b[1;32m    374\u001b[0m \u001b[38;5;124;03m    wrapped node. This is used in particular to symbolically record operations\u001b[39;00m\n\u001b[1;32m    375\u001b[0m \u001b[38;5;124;03m    in the symbolic shape workflow.\u001b[39;00m\n\u001b[1;32m    376\u001b[0m \u001b[38;5;124;03m    \"\"\"\u001b[39;00m\n",
      "\u001b[0;31mImportError\u001b[0m: libcudnn.so.9: cannot open shared object file: No such file or directory"
     ]
    }
   ],
   "source": [
    "import torch\n",
    "torch.cuda.is_available()"
   ]
  },
  {
   "cell_type": "code",
   "execution_count": null,
   "id": "61c7e96e-04ce-4144-b826-4a201626dff5",
   "metadata": {},
   "outputs": [],
   "source": []
  },
  {
   "cell_type": "code",
   "execution_count": 4,
   "id": "772fed3e-23c9-4877-b444-c78169f12d98",
   "metadata": {},
   "outputs": [
    {
     "ename": "NameError",
     "evalue": "name 'torch' is not defined",
     "output_type": "error",
     "traceback": [
      "\u001b[0;31m---------------------------------------------------------------------------\u001b[0m",
      "\u001b[0;31mNameError\u001b[0m                                 Traceback (most recent call last)",
      "Cell \u001b[0;32mIn[4], line 1\u001b[0m\n\u001b[0;32m----> 1\u001b[0m \u001b[43mtorch\u001b[49m\u001b[38;5;241m.\u001b[39mhub\u001b[38;5;241m.\u001b[39mset_dir(\u001b[38;5;124m'\u001b[39m\u001b[38;5;124m/projects/robustmicrob/amondal2/torch/\u001b[39m\u001b[38;5;124m'\u001b[39m)\n\u001b[1;32m      2\u001b[0m model_name \u001b[38;5;241m=\u001b[39m \u001b[38;5;124m\"\u001b[39m\u001b[38;5;124mesm2_t33_650M_UR50D\u001b[39m\u001b[38;5;124m\"\u001b[39m\n\u001b[1;32m      3\u001b[0m \u001b[38;5;66;03m# model_name = \"esm2_t36_3B_UR50D\"\u001b[39;00m\n",
      "\u001b[0;31mNameError\u001b[0m: name 'torch' is not defined"
     ]
    }
   ],
   "source": [
    "torch.hub.set_dir('/projects/robustmicrob/amondal2/torch/')\n",
    "model_name = \"esm2_t33_650M_UR50D\"\n",
    "# model_name = \"esm2_t36_3B_UR50D\"\n",
    "model, alphabet = torch.hub.load(\"facebookresearch/esm:main\", model_name)"
   ]
  },
  {
   "cell_type": "markdown",
   "id": "7af2cd31-65d6-4539-a865-7df11c7463a3",
   "metadata": {},
   "source": [
    "### Build/get embeddings"
   ]
  },
  {
   "cell_type": "code",
   "execution_count": 5,
   "id": "1e1e06d5-1ba3-45cd-895c-2da4aa733f72",
   "metadata": {},
   "outputs": [],
   "source": [
    "def read_embeddings(embed_file, sequence_idx_file):\n",
    "    \"\"\" Read embeddings stored in an npz file\n",
    "    Get the sequences at each index from the *sequence_idx_file\n",
    "    \"\"\"\n",
    "    embeddings = np.load(embed_file, allow_pickle=True)['arr_0']\n",
    "    sequences = pd.read_csv(sequence_idx_file, index_col=0)\n",
    "    sequences.set_index(\"Enzyme\", inplace=True)\n",
    "    print(f\"{len(embeddings) = } read from {embed_file}\")\n",
    "    print(f\"{len(sequences) = } read from {sequence_idx_file}\")\n",
    "    return embeddings, sequences"
   ]
  },
  {
   "cell_type": "code",
   "execution_count": 6,
   "id": "b08c084e-afb8-4b01-8308-cc22f25a12b5",
   "metadata": {},
   "outputs": [
    {
     "name": "stdout",
     "output_type": "stream",
     "text": [
      "len(embeddings) = 138 read from /projects/robustmicrob/amondal2/invizyne/inputs/embedding/embeddings_esm2_t33_650M_UR50D.npz\n",
      "len(sequences) = 138 read from /projects/robustmicrob/amondal2/invizyne/inputs/embedding/embeddings_seqs.csv\n",
      "(138, 1280)\n"
     ]
    }
   ],
   "source": [
    "inputs_dir = Path(\"/projects/robustmicrob/amondal2/invizyne/inputs/\")\n",
    "# Load the esm2 embeddings for these proteins\n",
    "# they were built using the src/build_embeddings.py script\n",
    "embeddings, df_seq = read_embeddings(inputs_dir / \"embedding/embeddings_esm2_t33_650M_UR50D.npz\",\n",
    "                                     inputs_dir /\"embedding/embeddings_seqs.csv\")\n",
    "print(embeddings.shape)"
   ]
  },
  {
   "cell_type": "code",
   "execution_count": 7,
   "id": "e7121865-5ef3-48d3-b3af-c09c13d98002",
   "metadata": {},
   "outputs": [
    {
     "data": {
      "text/html": [
       "<div>\n",
       "<style scoped>\n",
       "    .dataframe tbody tr th:only-of-type {\n",
       "        vertical-align: middle;\n",
       "    }\n",
       "\n",
       "    .dataframe tbody tr th {\n",
       "        vertical-align: top;\n",
       "    }\n",
       "\n",
       "    .dataframe thead th {\n",
       "        text-align: right;\n",
       "    }\n",
       "</style>\n",
       "<table border=\"1\" class=\"dataframe\">\n",
       "  <thead>\n",
       "    <tr style=\"text-align: right;\">\n",
       "      <th></th>\n",
       "      <th>Sequence</th>\n",
       "    </tr>\n",
       "    <tr>\n",
       "      <th>Enzyme</th>\n",
       "      <th></th>\n",
       "    </tr>\n",
       "  </thead>\n",
       "  <tbody>\n",
       "    <tr>\n",
       "      <th>D104I</th>\n",
       "      <td>MLTKATKEQKSLVKNRGAELVVDCLINQGVTHVFGIPGAKIDAVFD...</td>\n",
       "    </tr>\n",
       "    <tr>\n",
       "      <th>D104L</th>\n",
       "      <td>MLTKATKEQKSLVKNRGAELVVDCLINQGVTHVFGIPGAKIDAVFD...</td>\n",
       "    </tr>\n",
       "  </tbody>\n",
       "</table>\n",
       "</div>"
      ],
      "text/plain": [
       "                                                 Sequence\n",
       "Enzyme                                                   \n",
       "D104I   MLTKATKEQKSLVKNRGAELVVDCLINQGVTHVFGIPGAKIDAVFD...\n",
       "D104L   MLTKATKEQKSLVKNRGAELVVDCLINQGVTHVFGIPGAKIDAVFD..."
      ]
     },
     "execution_count": 7,
     "metadata": {},
     "output_type": "execute_result"
    }
   ],
   "source": [
    "df_seq.head(2)"
   ]
  },
  {
   "cell_type": "code",
   "execution_count": 8,
   "id": "02afd261-2cbb-45f8-a612-ef4b932d7acd",
   "metadata": {},
   "outputs": [],
   "source": [
    "#df_seq = df_seq.reset_index()\n",
    "#df_seq.head(2)"
   ]
  },
  {
   "cell_type": "code",
   "execution_count": 9,
   "id": "70ecb4d6-fc3a-4b46-b2ca-fdc4409f8fad",
   "metadata": {},
   "outputs": [
    {
     "name": "stdout",
     "output_type": "stream",
     "text": [
      "221 138\n"
     ]
    },
    {
     "data": {
      "text/html": [
       "<div>\n",
       "<style scoped>\n",
       "    .dataframe tbody tr th:only-of-type {\n",
       "        vertical-align: middle;\n",
       "    }\n",
       "\n",
       "    .dataframe tbody tr th {\n",
       "        vertical-align: top;\n",
       "    }\n",
       "\n",
       "    .dataframe thead th {\n",
       "        text-align: right;\n",
       "    }\n",
       "</style>\n",
       "<table border=\"1\" class=\"dataframe\">\n",
       "  <thead>\n",
       "    <tr style=\"text-align: right;\">\n",
       "      <th></th>\n",
       "      <th>Enzyme</th>\n",
       "      <th>Sequence</th>\n",
       "      <th>control</th>\n",
       "      <th>treated at 60C</th>\n",
       "      <th>% retained</th>\n",
       "    </tr>\n",
       "  </thead>\n",
       "  <tbody>\n",
       "    <tr>\n",
       "      <th>0</th>\n",
       "      <td>D104I</td>\n",
       "      <td>MLTKATKEQKSLVKNRGAELVVDCLINQGVTHVFGIPGAKIDAVFD...</td>\n",
       "      <td>0.164326</td>\n",
       "      <td>0.060564</td>\n",
       "      <td>0.368560</td>\n",
       "    </tr>\n",
       "    <tr>\n",
       "      <th>1</th>\n",
       "      <td>D104L</td>\n",
       "      <td>MLTKATKEQKSLVKNRGAELVVDCLINQGVTHVFGIPGAKIDAVFD...</td>\n",
       "      <td>0.171965</td>\n",
       "      <td>0.077058</td>\n",
       "      <td>0.448101</td>\n",
       "    </tr>\n",
       "  </tbody>\n",
       "</table>\n",
       "</div>"
      ],
      "text/plain": [
       "  Enzyme                                           Sequence   control  \\\n",
       "0  D104I  MLTKATKEQKSLVKNRGAELVVDCLINQGVTHVFGIPGAKIDAVFD...  0.164326   \n",
       "1  D104L  MLTKATKEQKSLVKNRGAELVVDCLINQGVTHVFGIPGAKIDAVFD...  0.171965   \n",
       "\n",
       "   treated at 60C  % retained  \n",
       "0        0.060564    0.368560  \n",
       "1        0.077058    0.448101  "
      ]
     },
     "execution_count": 9,
     "metadata": {},
     "output_type": "execute_result"
    }
   ],
   "source": [
    "# I fit a normal curve to the pH range data for each protein/reaction type with 2+ activity points\n",
    "# e.g., 50% activity at pH 6, 100% activity at pH 7, 80% activity at pH 8\n",
    "# This file has all of those curves, as well as a single pH optimum point (fit_mean) for proteins where it's available \n",
    "data_file = Path(\"/projects/robustmicrob/amondal2/invizyne/inputs/20240917_AlsS.xlsx\")\n",
    "data_fits = pd.read_excel(data_file, sheet_name=0) \n",
    "print(len(data_fits), data_fits.Enzyme.nunique())\n",
    "data_fits.head(2)"
   ]
  },
  {
   "cell_type": "code",
   "execution_count": 10,
   "id": "8173e07c-2499-4990-8b41-df085eadf29d",
   "metadata": {},
   "outputs": [
    {
     "data": {
      "text/html": [
       "<div>\n",
       "<style scoped>\n",
       "    .dataframe tbody tr th:only-of-type {\n",
       "        vertical-align: middle;\n",
       "    }\n",
       "\n",
       "    .dataframe tbody tr th {\n",
       "        vertical-align: top;\n",
       "    }\n",
       "\n",
       "    .dataframe thead th {\n",
       "        text-align: right;\n",
       "    }\n",
       "</style>\n",
       "<table border=\"1\" class=\"dataframe\">\n",
       "  <thead>\n",
       "    <tr style=\"text-align: right;\">\n",
       "      <th></th>\n",
       "      <th>Enzyme</th>\n",
       "      <th>Sequence</th>\n",
       "      <th>control</th>\n",
       "      <th>treated at 60C</th>\n",
       "      <th>retained</th>\n",
       "    </tr>\n",
       "  </thead>\n",
       "  <tbody>\n",
       "    <tr>\n",
       "      <th>0</th>\n",
       "      <td>D104I</td>\n",
       "      <td>MLTKATKEQKSLVKNRGAELVVDCLINQGVTHVFGIPGAKIDAVFD...</td>\n",
       "      <td>0.164326</td>\n",
       "      <td>0.060564</td>\n",
       "      <td>0.368560</td>\n",
       "    </tr>\n",
       "    <tr>\n",
       "      <th>1</th>\n",
       "      <td>D104L</td>\n",
       "      <td>MLTKATKEQKSLVKNRGAELVVDCLINQGVTHVFGIPGAKIDAVFD...</td>\n",
       "      <td>0.171965</td>\n",
       "      <td>0.077058</td>\n",
       "      <td>0.448101</td>\n",
       "    </tr>\n",
       "  </tbody>\n",
       "</table>\n",
       "</div>"
      ],
      "text/plain": [
       "  Enzyme                                           Sequence   control  \\\n",
       "0  D104I  MLTKATKEQKSLVKNRGAELVVDCLINQGVTHVFGIPGAKIDAVFD...  0.164326   \n",
       "1  D104L  MLTKATKEQKSLVKNRGAELVVDCLINQGVTHVFGIPGAKIDAVFD...  0.171965   \n",
       "\n",
       "   treated at 60C  retained  \n",
       "0        0.060564  0.368560  \n",
       "1        0.077058  0.448101  "
      ]
     },
     "execution_count": 10,
     "metadata": {},
     "output_type": "execute_result"
    }
   ],
   "source": [
    "data_fits = data_fits.rename(columns={\"% retained\": \"retained\"})\n",
    "data_fits.head(2)"
   ]
  },
  {
   "cell_type": "code",
   "execution_count": 11,
   "id": "18c7fb1c-6ffd-4197-b20b-2911e16e97ba",
   "metadata": {},
   "outputs": [
    {
     "data": {
      "text/plain": [
       "count    221.000000\n",
       "mean       0.443218\n",
       "std        0.162594\n",
       "min        0.109262\n",
       "25%        0.342884\n",
       "50%        0.419330\n",
       "75%        0.510712\n",
       "max        1.021936\n",
       "Name: retained, dtype: float64"
      ]
     },
     "execution_count": 11,
     "metadata": {},
     "output_type": "execute_result"
    }
   ],
   "source": [
    "data_fits.retained.describe()"
   ]
  },
  {
   "cell_type": "code",
   "execution_count": 12,
   "id": "286e34bf-d970-4f92-bccb-6cc2f3346c43",
   "metadata": {},
   "outputs": [],
   "source": [
    "data_fits = data_fits.drop(columns=['control', 'treated at 60C'])"
   ]
  },
  {
   "cell_type": "code",
   "execution_count": 13,
   "id": "b580a97c-07a6-43ed-b863-5f3199135ec9",
   "metadata": {},
   "outputs": [],
   "source": [
    "data_fits = data_fits.replace(\"?\", np.nan)"
   ]
  },
  {
   "cell_type": "code",
   "execution_count": 14,
   "id": "42fb703e-98d1-4f88-a183-c043f78423ce",
   "metadata": {},
   "outputs": [],
   "source": [
    "# oxidoreductases can often perform both oxidation and reduction\n",
    "# so I manually annotated them by the type of reaction\n",
    "#data_fits.reaction_type.value_counts()"
   ]
  },
  {
   "cell_type": "code",
   "execution_count": 15,
   "id": "886912cd-06d2-4d46-abbc-63b05da81bc5",
   "metadata": {},
   "outputs": [
    {
     "name": "stdout",
     "output_type": "stream",
     "text": [
      "# proteins with activity range data: 138\n"
     ]
    }
   ],
   "source": [
    "print(f\"# proteins with activity range data: {data_fits.dropna(subset='retained').Enzyme.nunique()}\")\n",
    "#print(f\"# proteins & reaction types with pH range data: {len(data_fits.dropna(subset='retained'))}\")"
   ]
  },
  {
   "cell_type": "code",
   "execution_count": 16,
   "id": "ceaf6cda-e7e0-4326-a2c7-a8fb727b42a6",
   "metadata": {},
   "outputs": [
    {
     "name": "stdout",
     "output_type": "stream",
     "text": [
      "138 221\n",
      "138 221\n"
     ]
    }
   ],
   "source": [
    "# Not all protein IDs matched a uniprot ID, so limit the proteins to those with an embedding\n",
    "data_fits = data_fits[data_fits.Enzyme.isin(df_seq.index)]\n",
    "print(data_fits.Enzyme.nunique(), len(data_fits))\n",
    "# Make sure each row has a pH optimum\n",
    "data_fits.dropna(subset=['retained'], how=\"any\", inplace=True)\n",
    "print(data_fits.Enzyme.nunique(), len(data_fits))"
   ]
  },
  {
   "cell_type": "code",
   "execution_count": 17,
   "id": "1eb61bd8-9dcd-497c-92ea-44599f35d73f",
   "metadata": {},
   "outputs": [
    {
     "data": {
      "text/html": [
       "<div>\n",
       "<style scoped>\n",
       "    .dataframe tbody tr th:only-of-type {\n",
       "        vertical-align: middle;\n",
       "    }\n",
       "\n",
       "    .dataframe tbody tr th {\n",
       "        vertical-align: top;\n",
       "    }\n",
       "\n",
       "    .dataframe thead th {\n",
       "        text-align: right;\n",
       "    }\n",
       "</style>\n",
       "<table border=\"1\" class=\"dataframe\">\n",
       "  <thead>\n",
       "    <tr style=\"text-align: right;\">\n",
       "      <th></th>\n",
       "      <th>Enzyme</th>\n",
       "      <th>Sequence</th>\n",
       "      <th>retained</th>\n",
       "    </tr>\n",
       "  </thead>\n",
       "  <tbody>\n",
       "    <tr>\n",
       "      <th>0</th>\n",
       "      <td>A375I</td>\n",
       "      <td>MLTKATKEQKSLVKNRGAELVVDCLINQGVTHVFGIPGAKIDAVFD...</td>\n",
       "      <td>0.371118</td>\n",
       "    </tr>\n",
       "    <tr>\n",
       "      <th>1</th>\n",
       "      <td>A375L</td>\n",
       "      <td>MLTKATKEQKSLVKNRGAELVVDCLINQGVTHVFGIPGAKIDAVFD...</td>\n",
       "      <td>0.447088</td>\n",
       "    </tr>\n",
       "    <tr>\n",
       "      <th>2</th>\n",
       "      <td>A375M</td>\n",
       "      <td>MLTKATKEQKSLVKNRGAELVVDCLINQGVTHVFGIPGAKIDAVFD...</td>\n",
       "      <td>0.511820</td>\n",
       "    </tr>\n",
       "    <tr>\n",
       "      <th>3</th>\n",
       "      <td>A375T</td>\n",
       "      <td>MLTKATKEQKSLVKNRGAELVVDCLINQGVTHVFGIPGAKIDAVFD...</td>\n",
       "      <td>0.594529</td>\n",
       "    </tr>\n",
       "    <tr>\n",
       "      <th>4</th>\n",
       "      <td>A375V</td>\n",
       "      <td>MLTKATKEQKSLVKNRGAELVVDCLINQGVTHVFGIPGAKIDAVFD...</td>\n",
       "      <td>0.459290</td>\n",
       "    </tr>\n",
       "    <tr>\n",
       "      <th>...</th>\n",
       "      <td>...</td>\n",
       "      <td>...</td>\n",
       "      <td>...</td>\n",
       "    </tr>\n",
       "    <tr>\n",
       "      <th>133</th>\n",
       "      <td>Y508F</td>\n",
       "      <td>MLTKATKEQKSLVKNRGAELVVDCLINQGVTHVFGIPGAKIDAVFD...</td>\n",
       "      <td>0.375689</td>\n",
       "    </tr>\n",
       "    <tr>\n",
       "      <th>134</th>\n",
       "      <td>Y508I</td>\n",
       "      <td>MLTKATKEQKSLVKNRGAELVVDCLINQGVTHVFGIPGAKIDAVFD...</td>\n",
       "      <td>0.230590</td>\n",
       "    </tr>\n",
       "    <tr>\n",
       "      <th>135</th>\n",
       "      <td>Y508L</td>\n",
       "      <td>MLTKATKEQKSLVKNRGAELVVDCLINQGVTHVFGIPGAKIDAVFD...</td>\n",
       "      <td>0.471797</td>\n",
       "    </tr>\n",
       "    <tr>\n",
       "      <th>136</th>\n",
       "      <td>Y508M</td>\n",
       "      <td>MLTKATKEQKSLVKNRGAELVVDCLINQGVTHVFGIPGAKIDAVFD...</td>\n",
       "      <td>0.509550</td>\n",
       "    </tr>\n",
       "    <tr>\n",
       "      <th>137</th>\n",
       "      <td>Y508V</td>\n",
       "      <td>MLTKATKEQKSLVKNRGAELVVDCLINQGVTHVFGIPGAKIDAVFD...</td>\n",
       "      <td>0.912375</td>\n",
       "    </tr>\n",
       "  </tbody>\n",
       "</table>\n",
       "<p>138 rows × 3 columns</p>\n",
       "</div>"
      ],
      "text/plain": [
       "    Enzyme                                           Sequence  retained\n",
       "0    A375I  MLTKATKEQKSLVKNRGAELVVDCLINQGVTHVFGIPGAKIDAVFD...  0.371118\n",
       "1    A375L  MLTKATKEQKSLVKNRGAELVVDCLINQGVTHVFGIPGAKIDAVFD...  0.447088\n",
       "2    A375M  MLTKATKEQKSLVKNRGAELVVDCLINQGVTHVFGIPGAKIDAVFD...  0.511820\n",
       "3    A375T  MLTKATKEQKSLVKNRGAELVVDCLINQGVTHVFGIPGAKIDAVFD...  0.594529\n",
       "4    A375V  MLTKATKEQKSLVKNRGAELVVDCLINQGVTHVFGIPGAKIDAVFD...  0.459290\n",
       "..     ...                                                ...       ...\n",
       "133  Y508F  MLTKATKEQKSLVKNRGAELVVDCLINQGVTHVFGIPGAKIDAVFD...  0.375689\n",
       "134  Y508I  MLTKATKEQKSLVKNRGAELVVDCLINQGVTHVFGIPGAKIDAVFD...  0.230590\n",
       "135  Y508L  MLTKATKEQKSLVKNRGAELVVDCLINQGVTHVFGIPGAKIDAVFD...  0.471797\n",
       "136  Y508M  MLTKATKEQKSLVKNRGAELVVDCLINQGVTHVFGIPGAKIDAVFD...  0.509550\n",
       "137  Y508V  MLTKATKEQKSLVKNRGAELVVDCLINQGVTHVFGIPGAKIDAVFD...  0.912375\n",
       "\n",
       "[138 rows x 3 columns]"
      ]
     },
     "execution_count": 17,
     "metadata": {},
     "output_type": "execute_result"
    }
   ],
   "source": [
    "data_fits['Enzyme'].value_counts()\n",
    "data_fits = data_fits.groupby(['Enzyme', 'Sequence'], as_index=False)['retained'].mean()\n",
    "data_fits"
   ]
  },
  {
   "cell_type": "code",
   "execution_count": 18,
   "id": "f7d22dc8-efe3-47eb-842a-4ea04aa1f07b",
   "metadata": {},
   "outputs": [
    {
     "name": "stdout",
     "output_type": "stream",
     "text": [
      "138 138\n",
      "138 138\n"
     ]
    }
   ],
   "source": [
    "data_fits = data_fits[data_fits.Enzyme.isin(df_seq.index)]\n",
    "print(data_fits.Enzyme.nunique(), len(data_fits))\n",
    "# Make sure each row has a pH optimum\n",
    "data_fits.dropna(subset=['retained'], how=\"any\", inplace=True)\n",
    "print(data_fits.Enzyme.nunique(), len(data_fits))"
   ]
  },
  {
   "cell_type": "code",
   "execution_count": 19,
   "id": "0a71d3d0-00f0-4637-b3a7-5e4ae95583a8",
   "metadata": {},
   "outputs": [
    {
     "data": {
      "text/html": [
       "<div>\n",
       "<style scoped>\n",
       "    .dataframe tbody tr th:only-of-type {\n",
       "        vertical-align: middle;\n",
       "    }\n",
       "\n",
       "    .dataframe tbody tr th {\n",
       "        vertical-align: top;\n",
       "    }\n",
       "\n",
       "    .dataframe thead th {\n",
       "        text-align: right;\n",
       "    }\n",
       "</style>\n",
       "<table border=\"1\" class=\"dataframe\">\n",
       "  <thead>\n",
       "    <tr style=\"text-align: right;\">\n",
       "      <th></th>\n",
       "      <th>Sequence</th>\n",
       "    </tr>\n",
       "    <tr>\n",
       "      <th>Enzyme</th>\n",
       "      <th></th>\n",
       "    </tr>\n",
       "  </thead>\n",
       "  <tbody>\n",
       "    <tr>\n",
       "      <th>D104I</th>\n",
       "      <td>MLTKATKEQKSLVKNRGAELVVDCLINQGVTHVFGIPGAKIDAVFD...</td>\n",
       "    </tr>\n",
       "    <tr>\n",
       "      <th>D104L</th>\n",
       "      <td>MLTKATKEQKSLVKNRGAELVVDCLINQGVTHVFGIPGAKIDAVFD...</td>\n",
       "    </tr>\n",
       "    <tr>\n",
       "      <th>D104T</th>\n",
       "      <td>MLTKATKEQKSLVKNRGAELVVDCLINQGVTHVFGIPGAKIDAVFD...</td>\n",
       "    </tr>\n",
       "    <tr>\n",
       "      <th>D104V</th>\n",
       "      <td>MLTKATKEQKSLVKNRGAELVVDCLINQGVTHVFGIPGAKIDAVFD...</td>\n",
       "    </tr>\n",
       "    <tr>\n",
       "      <th>W432S</th>\n",
       "      <td>MLTKATKEQKSLVKNRGAELVVDCLINQGVTHVFGIPGAKIDAVFD...</td>\n",
       "    </tr>\n",
       "    <tr>\n",
       "      <th>...</th>\n",
       "      <td>...</td>\n",
       "    </tr>\n",
       "    <tr>\n",
       "      <th>T3S</th>\n",
       "      <td>MLSKATKEQKSLVKNRGAELVVDCLINQGVTHVFGIPGAKIDAVFD...</td>\n",
       "    </tr>\n",
       "    <tr>\n",
       "      <th>V13I</th>\n",
       "      <td>MLTKATKEQKSLIKNRGAELVVDCLINQGVTHVFGIPGAKIDAVFD...</td>\n",
       "    </tr>\n",
       "    <tr>\n",
       "      <th>V13W</th>\n",
       "      <td>MLTKATKEQKSLWKNRGAELVVDCLINQGVTHVFGIPGAKIDAVFD...</td>\n",
       "    </tr>\n",
       "    <tr>\n",
       "      <th>T3E</th>\n",
       "      <td>MLEKATKEQKSLVKNRGAELVVDCLINQGVTHVFGIPGAKIDAVFD...</td>\n",
       "    </tr>\n",
       "    <tr>\n",
       "      <th>T395S</th>\n",
       "      <td>MLTKATKEQKSLVKNRGAELVVDCLINQGVTHVFGIPGAKIDAVFD...</td>\n",
       "    </tr>\n",
       "  </tbody>\n",
       "</table>\n",
       "<p>138 rows × 1 columns</p>\n",
       "</div>"
      ],
      "text/plain": [
       "                                                 Sequence\n",
       "Enzyme                                                   \n",
       "D104I   MLTKATKEQKSLVKNRGAELVVDCLINQGVTHVFGIPGAKIDAVFD...\n",
       "D104L   MLTKATKEQKSLVKNRGAELVVDCLINQGVTHVFGIPGAKIDAVFD...\n",
       "D104T   MLTKATKEQKSLVKNRGAELVVDCLINQGVTHVFGIPGAKIDAVFD...\n",
       "D104V   MLTKATKEQKSLVKNRGAELVVDCLINQGVTHVFGIPGAKIDAVFD...\n",
       "W432S   MLTKATKEQKSLVKNRGAELVVDCLINQGVTHVFGIPGAKIDAVFD...\n",
       "...                                                   ...\n",
       "T3S     MLSKATKEQKSLVKNRGAELVVDCLINQGVTHVFGIPGAKIDAVFD...\n",
       "V13I    MLTKATKEQKSLIKNRGAELVVDCLINQGVTHVFGIPGAKIDAVFD...\n",
       "V13W    MLTKATKEQKSLWKNRGAELVVDCLINQGVTHVFGIPGAKIDAVFD...\n",
       "T3E     MLEKATKEQKSLVKNRGAELVVDCLINQGVTHVFGIPGAKIDAVFD...\n",
       "T395S   MLTKATKEQKSLVKNRGAELVVDCLINQGVTHVFGIPGAKIDAVFD...\n",
       "\n",
       "[138 rows x 1 columns]"
      ]
     },
     "execution_count": 19,
     "metadata": {},
     "output_type": "execute_result"
    }
   ],
   "source": [
    "df_seq"
   ]
  },
  {
   "cell_type": "code",
   "execution_count": 20,
   "id": "848e71f0-8234-4ac1-8b38-1158417c4d5b",
   "metadata": {},
   "outputs": [
    {
     "name": "stdout",
     "output_type": "stream",
     "text": [
      "Index(['Sequence'], dtype='object')\n"
     ]
    }
   ],
   "source": [
    "print(df_seq.columns)"
   ]
  },
  {
   "cell_type": "code",
   "execution_count": 21,
   "id": "828ba158-044e-4f3d-b266-398f96af176d",
   "metadata": {},
   "outputs": [],
   "source": [
    "enz_to_seq = dict(zip(df_seq.index, df_seq.Sequence))\n",
    "seq_to_enz = dict(zip(df_seq.Sequence, df_seq.index))\n"
   ]
  },
  {
   "cell_type": "code",
   "execution_count": 22,
   "id": "8363a871-691a-4210-a19f-ffc84715d448",
   "metadata": {},
   "outputs": [],
   "source": [
    "data_fits['Sequence'] = data_fits.Enzyme.apply(lambda x: enz_to_seq[x])"
   ]
  },
  {
   "cell_type": "code",
   "execution_count": 23,
   "id": "995a67d5-9403-43f6-9e14-d7f8c0fa2cf1",
   "metadata": {},
   "outputs": [
    {
     "name": "stdout",
     "output_type": "stream",
     "text": [
      "136 138\n"
     ]
    }
   ],
   "source": [
    "# some uniprot IDs map to the same amino acid sequence\n",
    "df_seq_uniq = data_fits['Sequence'].drop_duplicates()\n",
    "print(len(df_seq_uniq), data_fits.Enzyme.nunique())"
   ]
  },
  {
   "cell_type": "code",
   "execution_count": 24,
   "id": "4ca8b975-b903-4251-9743-0c57a3370e73",
   "metadata": {
    "scrolled": true
   },
   "outputs": [
    {
     "data": {
      "text/plain": [
       "Sequence\n",
       "MLTKATKEQKSLVKNRGAELVVDCLINQGVTHVFGIPGAKIDAVFDALQDKGPEIIVARHEQNAAFMAQAVGRLTGKPGVVLVTSGPGASNLATGLLTANTEGDPVVALAGNVPRADRLKRTHQSLDNAALFQPITKYSVEVQDPDNIPEAVTNAFRIAEAGQAGAAFVSFPQDVVNEVTNTKNVRPVAPPKLGPAPDDAISAAIAKIQTAKLPVVLVGMKGGRPEAIKAIRKLLKKTQLPFVETYQAAGTLSRDLEDLYFGRIGLFRNQPGDLLLEQADVVLTIGYDPIEYDPKFWNINGDRTIIHLDEIPADIDHYYQPDLELIGDIPSTINHIAHDAVKVEFSEREQKILSDLKQYMHELEQVPADWKSDRAHPLEIVKELRNAVDDDVTVTCDIGSHAIWMARYFRSYEPLTLMISNGMQTLGVALPWAIGASLVKPGEKVVSVSGDGGFLFSAMELETAVRLKAPIVHIVWNDSTYDMVAFQQLKKYNRTSGVDFGNIDIVKYAESFGATGLRVESPDQLADVLRQGMNAEGPVIIDVPVDYSDNINLASDKLPKEFGELMKTKAL    3\n",
       "MLTKATKEQKSLVKNRGAELVVDCLINQGVTHVFGIPGAKIDAVFDALQDKGPEIIVARHEQNAAFMAQAVGRLTGKPGVVLVTSGPGASNLATGLLTANTEGDPVVALAGNVPRADRLKRTHQSLDNAALFQPITKYSVEVQDPDNIPEAVTNAFRIAEAGQAGAAFVSFPQDVVNEVTNTKNVRPVAPPKLGPAPDDAISAAIAKIQTAKLPVVLVGMKGGRPEAIKAIRKLLKKTQLPFVETYQAAGTLSRDLEDLYFGRIGLFRNQPGDLLLEQADVVLTIGYDPIEYDPKFWNINGDRTIIHLDEIPADIDHYYQPDLELIGDIPSTINHIAHDAVKVEFSEREQKILSDLKQYRHELEQVPADWKSDRAHPLEIVKELRNAVDDDVTVTCDIGSHAIWMARYFRSYEPLTLMISNGMQTLGVALPWAIGASLVKPGEKVVSVSGDGGFLFSAMELETAVRLKAPIVHIVWNDSTYDMVAFQQLKKYNRTSGVDFGNIDIVKYAESFGATGLRVESPDQLADVLRQGMNAEGPVIIDVPVDYSDNINLASDKLPKEFGELMKTKAL    1\n",
       "MLTKATKEQKSLVKNRGAELVVDCLINQGVTHVFGIPGAKIDAVFDALQDKGPEIIVARHEQNAAFMAQAVGRLTGKPGVVLVTSGPGASNLATGLLTANTEGDPVVALAGNVPRADRLKRTHQSLDNAALFQPITKYSVEVQDPDNIPEAVTNAFRIAEAGQAGAAFVSFPQDVVNEVTNTKNVRPVAPPKLGPAPDDAISAAIAKIQTAKLPVVLVGMKGGRPEAIKAIRKLLKKTQLPFVETYQAAGTLSRDLEDLYFGRIGLFRNQPGDLLLEQADVVLTIGYDPIEYDPKFWNINGDRTIIHLDEIPADIDHYYQPDLELIGDIPSTINHIAHDAVKVEFSEREQKILSDLKQYMHELEQVPADWKSDRAHPLEIVKELRNAVDDDVTVTCDIGSHAIWLARYFRSYEPLTLMISNGMQTLGVALPWAIGASLVKPGEKVVSVSGDGGFLFSAMELETAVRLKAPIVHIVWNDSTYDMVAFQQLKKYNRTSGVDFGNIDIVKYAESFGATGLRVESPDQLADVLRQGMNAEGPVIIDVPVDYSDNINLASDKLPKEFGELMKTKAL    1\n",
       "MLTKATKEQKSLVKKRGAELVVDCLINQGVTHVFGIPGAKIDAVFDALQDKGPEIIVARHEQNAAFMAQAVGRLTGKPGVVLVTSGPGASNLATGLLTANTEGDPVVALAGNVPRADRLKRTHQSLDNAALFQPITKYSVEVQDPDNIPEAVTNAFRIAEAGQAGAAFVSFPQDVVNEVTNTKNVRPVAPPKLGPAPDDAISAAIAKIQTAKLPVVLVGMKGGRPEAIKAIRKLLKKTQLPFVETYQAAGTLSRDLEDLYFGRIGLFRNQPGDLLLEQADVVLTIGYDPIEYDPKFWNINGDRTIIHLDEIPADIDHYYQPDLELIGDIPSTINHIAHDAVKVEFSEREQKILSDLKQYMHELEQVPADWKSDRAHPLEIVKELRNAVDDDVTVTCDIGSHAIWMARYFRSYEPLTLMISNGMQTLGVALPWAIGASLVKPGEKVVSVSGDGGFLFSAMELETAVRLKAPIVHIVWNDSTYDMVAFQQLKKYNRTSGVDFGNIDIVKYAESFGATGLRVESPDQLADVLRQGMNAEGPVIIDVPVDYSDNINLASDKLPKEFGELMKTKAL    1\n",
       "MLTKATKEQKSLVKLRGAELVVDCLINQGVTHVFGIPGAKIDAVFDALQDKGPEIIVARHEQNAAFMAQAVGRLTGKPGVVLVTSGPGASNLATGLLTANTEGDPVVALAGNVPRADRLKRTHQSLDNAALFQPITKYSVEVQDPDNIPEAVTNAFRIAEAGQAGAAFVSFPQDVVNEVTNTKNVRPVAPPKLGPAPDDAISAAIAKIQTAKLPVVLVGMKGGRPEAIKAIRKLLKKTQLPFVETYQAAGTLSRDLEDLYFGRIGLFRNQPGDLLLEQADVVLTIGYDPIEYDPKFWNINGDRTIIHLDEIPADIDHYYQPDLELIGDIPSTINHIAHDAVKVEFSEREQKILSDLKQYMHELEQVPADWKSDRAHPLEIVKELRNAVDDDVTVTCDIGSHAIWMARYFRSYEPLTLMISNGMQTLGVALPWAIGASLVKPGEKVVSVSGDGGFLFSAMELETAVRLKAPIVHIVWNDSTYDMVAFQQLKKYNRTSGVDFGNIDIVKYAESFGATGLRVESPDQLADVLRQGMNAEGPVIIDVPVDYSDNINLASDKLPKEFGELMKTKAL    1\n",
       "                                                                                                                                                                                                                                                                                                                                                                                                                                                                                                                                                                                              ..\n",
       "MLTKATKEQKSLVKNRGAELVVDCLINQGVTHVFGIPGAGIDAVFDALQDKGPEIIVARHEQNAAFMAQAVGRLTGKPGVVLVTSGPGASNLATGLLTANTEGDPVVALAGNVPRADRLKRTHQSLDNAALFQPITKYSVEVQDPDNIPEAVTNAFRIAEAGQAGAAFVSFPQDVVNEVTNTKNVRPVAPPKLGPAPDDAISAAIAKIQTAKLPVVLVGMKGGRPEAIKAIRKLLKKTQLPFVETYQAAGTLSRDLEDLYFGRIGLFRNQPGDLLLEQADVVLTIGYDPIEYDPKFWNINGDRTIIHLDEIPADIDHYYQPDLELIGDIPSTINHIAHDAVKVEFSEREQKILSDLKQYMHELEQVPADWKSDRAHPLEIVKELRNAVDDDVTVTCDIGSHAIWMARYFRSYEPLTLMISNGMQTLGVALPWAIGASLVKPGEKVVSVSGDGGFLFSAMELETAVRLKAPIVHIVWNDSTYDMVAFQQLKKYNRTSGVDFGNIDIVKYAESFGATGLRVESPDQLADVLRQGMNAEGPVIIDVPVDYSDNINLASDKLPKEFGELMKTKAL    1\n",
       "MLTKATKEQKSLVKNRGAELVVDCLINQGVTHVFGIPGASIDAVFDALQDKGPEIIVARHEQNAAFMAQAVGRLTGKPGVVLVTSGPGASNLATGLLTANTEGDPVVALAGNVPRADRLKRTHQSLDNAALFQPITKYSVEVQDPDNIPEAVTNAFRIAEAGQAGAAFVSFPQDVVNEVTNTKNVRPVAPPKLGPAPDDAISAAIAKIQTAKLPVVLVGMKGGRPEAIKAIRKLLKKTQLPFVETYQAAGTLSRDLEDLYFGRIGLFRNQPGDLLLEQADVVLTIGYDPIEYDPKFWNINGDRTIIHLDEIPADIDHYYQPDLELIGDIPSTINHIAHDAVKVEFSEREQKILSDLKQYMHELEQVPADWKSDRAHPLEIVKELRNAVDDDVTVTCDIGSHAIWMARYFRSYEPLTLMISNGMQTLGVALPWAIGASLVKPGEKVVSVSGDGGFLFSAMELETAVRLKAPIVHIVWNDSTYDMVAFQQLKKYNRTSGVDFGNIDIVKYAESFGATGLRVESPDQLADVLRQGMNAEGPVIIDVPVDYSDNINLASDKLPKEFGELMKTKAL    1\n",
       "MLTKATKEQKSLVKNRGAELVVDCLINQGVTHVFGIPGATIDAVFDALQDKGPEIIVARHEQNAAFMAQAVGRLTGKPGVVLVTSGPGASNLATGLLTANTEGDPVVALAGNVPRADRLKRTHQSLDNAALFQPITKYSVEVQDPDNIPEAVTNAFRIAEAGQAGAAFVSFPQDVVNEVTNTKNVRPVAPPKLGPAPDDAISAAIAKIQTAKLPVVLVGMKGGRPEAIKAIRKLLKKTQLPFVETYQAAGTLSRDLEDLYFGRIGLFRNQPGDLLLEQADVVLTIGYDPIEYDPKFWNINGDRTIIHLDEIPADIDHYYQPDLELIGDIPSTINHIAHDAVKVEFSEREQKILSDLKQYMHELEQVPADWKSDRAHPLEIVKELRNAVDDDVTVTCDIGSHAIWMARYFRSYEPLTLMISNGMQTLGVALPWAIGASLVKPGEKVVSVSGDGGFLFSAMELETAVRLKAPIVHIVWNDSTYDMVAFQQLKKYNRTSGVDFGNIDIVKYAESFGATGLRVESPDQLADVLRQGMNAEGPVIIDVPVDYSDNINLASDKLPKEFGELMKTKAL    1\n",
       "MLTKATKEQKSLVKNRGAELVVDCLINQGVTHVFGIPGAVIDAVFDALQDKGPEIIVARHEQNAAFMAQAVGRLTGKPGVVLVTSGPGASNLATGLLTANTEGDPVVALAGNVPRADRLKRTHQSLDNAALFQPITKYSVEVQDPDNIPEAVTNAFRIAEAGQAGAAFVSFPQDVVNEVTNTKNVRPVAPPKLGPAPDDAISAAIAKIQTAKLPVVLVGMKGGRPEAIKAIRKLLKKTQLPFVETYQAAGTLSRDLEDLYFGRIGLFRNQPGDLLLEQADVVLTIGYDPIEYDPKFWNINGDRTIIHLDEIPADIDHYYQPDLELIGDIPSTINHIAHDAVKVEFSEREQKILSDLKQYMHELEQVPADWKSDRAHPLEIVKELRNAVDDDVTVTCDIGSHAIWMARYFRSYEPLTLMISNGMQTLGVALPWAIGASLVKPGEKVVSVSGDGGFLFSAMELETAVRLKAPIVHIVWNDSTYDMVAFQQLKKYNRTSGVDFGNIDIVKYAESFGATGLRVESPDQLADVLRQGMNAEGPVIIDVPVDYSDNINLASDKLPKEFGELMKTKAL    1\n",
       "MLTKATKEQKSLVKNRGAELVVDCLINQGVTHVFGIPGAKIDAVFDALQDKGPEIIVARHEQNAAFMAQAVGRLTGKPGVVLVTSGPGASNLATGLLTANTEGDPVVALAGNVPRADRLKRTHQSLDNAALFQPITKYSVEVQDPDNIPEAVTNAFRIAEAGQAGAAFVSFPQDVVNEVTNTKNVRPVAPPKLGPAPDDAISAAIAKIQTAKLPVVLVGMGGGRPEAIKAIRKLLKKTQLPFVETYQAAGTLSRDLEDLYFGRIGLFRNQPGDLLLEQADVVLTIGYDPIEYDPKFWNINGDRTIIHLDEIPADIDHYYQPDLELIGDIPSTINHIAHDAVKVEFSEREQKILSDLKQYMHELEQVPADWKSDRAHPLEIVKELRNAVDDDVTVTCDIGSHAIWMARYFRSYEPLTLMISNGMQTLGVALPWAIGASLVKPGEKVVSVSGDGGFLFSAMELETAVRLKAPIVHIVWNDSTYDMVAFQQLKKYNRTSGVDFGNIDIVKYAESFGATGLRVESPDQLADVLRQGMNAEGPVIIDVPVDYSDNINLASDKLPKEFGELMKTKAL    1\n",
       "Name: count, Length: 136, dtype: int64"
      ]
     },
     "execution_count": 24,
     "metadata": {},
     "output_type": "execute_result"
    }
   ],
   "source": [
    "data_fits['Sequence'].value_counts()"
   ]
  },
  {
   "cell_type": "code",
   "execution_count": 25,
   "id": "194fdd43-79b7-4ca8-a513-8182c5bafc73",
   "metadata": {},
   "outputs": [
    {
     "name": "stdout",
     "output_type": "stream",
     "text": [
      "Enzyme names: ['I26I', 'V13V', 'WT']\n",
      "Retained values: [0.2115231093688565, 0.3461553316923982, 0.3088992847879127]\n"
     ]
    }
   ],
   "source": [
    "# Assume you want to find entries for a specific sequence, e.g., 'your_sequence_here'\n",
    "specific_sequence = 'MLTKATKEQKSLVKNRGAELVVDCLINQGVTHVFGIPGAKIDAVFDALQDKGPEIIVARHEQNAAFMAQAVGRLTGKPGVVLVTSGPGASNLATGLLTANTEGDPVVALAGNVPRADRLKRTHQSLDNAALFQPITKYSVEVQDPDNIPEAVTNAFRIAEAGQAGAAFVSFPQDVVNEVTNTKNVRPVAPPKLGPAPDDAISAAIAKIQTAKLPVVLVGMKGGRPEAIKAIRKLLKKTQLPFVETYQAAGTLSRDLEDLYFGRIGLFRNQPGDLLLEQADVVLTIGYDPIEYDPKFWNINGDRTIIHLDEIPADIDHYYQPDLELIGDIPSTINHIAHDAVKVEFSEREQKILSDLKQYMHELEQVPADWKSDRAHPLEIVKELRNAVDDDVTVTCDIGSHAIWMARYFRSYEPLTLMISNGMQTLGVALPWAIGASLVKPGEKVVSVSGDGGFLFSAMELETAVRLKAPIVHIVWNDSTYDMVAFQQLKKYNRTSGVDFGNIDIVKYAESFGATGLRVESPDQLADVLRQGMNAEGPVIIDVPVDYSDNINLASDKLPKEFGELMKTKAL'\n",
    "\n",
    "# Filter the DataFrame to get all rows where the sequence matches\n",
    "filtered_df = data_fits[data_fits['Sequence'] == specific_sequence]\n",
    "\n",
    "# Get the corresponding enzyme names and retained values as lists\n",
    "enzymes = filtered_df['Enzyme'].tolist()\n",
    "retained_values = filtered_df['retained'].tolist()\n",
    "\n",
    "# Print the results\n",
    "print(\"Enzyme names:\", enzymes)\n",
    "print(\"Retained values:\", retained_values)"
   ]
  },
  {
   "cell_type": "code",
   "execution_count": 26,
   "id": "aac92a35-eedb-4ebc-ace9-3007e999b90b",
   "metadata": {},
   "outputs": [
    {
     "name": "stdout",
     "output_type": "stream",
     "text": [
      "136\n",
      "  Enzyme                                           Sequence  retained\n",
      "0  A375I  MLTKATKEQKSLVKNRGAELVVDCLINQGVTHVFGIPGAKIDAVFD...  0.371118\n",
      "1  A375L  MLTKATKEQKSLVKNRGAELVVDCLINQGVTHVFGIPGAKIDAVFD...  0.447088\n",
      "2  A375M  MLTKATKEQKSLVKNRGAELVVDCLINQGVTHVFGIPGAKIDAVFD...  0.511820\n",
      "3  A375T  MLTKATKEQKSLVKNRGAELVVDCLINQGVTHVFGIPGAKIDAVFD...  0.594529\n",
      "4  A375V  MLTKATKEQKSLVKNRGAELVVDCLINQGVTHVFGIPGAKIDAVFD...  0.459290\n"
     ]
    }
   ],
   "source": [
    "\n",
    "specific_sequence = 'MLTKATKEQKSLVKNRGAELVVDCLINQGVTHVFGIPGAKIDAVFDALQDKGPEIIVARHEQNAAFMAQAVGRLTGKPGVVLVTSGPGASNLATGLLTANTEGDPVVALAGNVPRADRLKRTHQSLDNAALFQPITKYSVEVQDPDNIPEAVTNAFRIAEAGQAGAAFVSFPQDVVNEVTNTKNVRPVAPPKLGPAPDDAISAAIAKIQTAKLPVVLVGMKGGRPEAIKAIRKLLKKTQLPFVETYQAAGTLSRDLEDLYFGRIGLFRNQPGDLLLEQADVVLTIGYDPIEYDPKFWNINGDRTIIHLDEIPADIDHYYQPDLELIGDIPSTINHIAHDAVKVEFSEREQKILSDLKQYMHELEQVPADWKSDRAHPLEIVKELRNAVDDDVTVTCDIGSHAIWMARYFRSYEPLTLMISNGMQTLGVALPWAIGASLVKPGEKVVSVSGDGGFLFSAMELETAVRLKAPIVHIVWNDSTYDMVAFQQLKKYNRTSGVDFGNIDIVKYAESFGATGLRVESPDQLADVLRQGMNAEGPVIIDVPVDYSDNINLASDKLPKEFGELMKTKAL'\n",
    "filtered_df = data_fits[data_fits['Sequence'] == specific_sequence]\n",
    "\n",
    "# Step 2: Calculate the mean of the retained values\n",
    "mean_retained = filtered_df['retained'].mean()\n",
    "\n",
    "# Step 3: Create a new DataFrame row with the desired values\n",
    "new_row = pd.DataFrame({\n",
    "    'Enzyme': ['WT'],  # Enzyme name set to 'WT'\n",
    "    'Sequence': [specific_sequence],  # The same sequence\n",
    "    'retained': [mean_retained]  # Mean of the retained values\n",
    "})\n",
    "\n",
    "# Step 4: Remove the old duplicate rows from the original DataFrame\n",
    "data_fits = data_fits[data_fits['Sequence'] != specific_sequence]\n",
    "\n",
    "# Step 5: Append the new row with the mean retained value to the DataFrame\n",
    "data_fits = pd.concat([data_fits, new_row], ignore_index=True)\n",
    "\n",
    "# Check the result\n",
    "print(len(data_fits))\n",
    "print(data_fits.head())"
   ]
  },
  {
   "cell_type": "code",
   "execution_count": 27,
   "id": "bacbf5fe-9340-4ca4-984e-49d103b1a387",
   "metadata": {},
   "outputs": [
    {
     "name": "stdout",
     "output_type": "stream",
     "text": [
      "    Enzyme                                           Sequence  retained\n",
      "135     WT  MLTKATKEQKSLVKNRGAELVVDCLINQGVTHVFGIPGAKIDAVFD...  0.288859\n"
     ]
    }
   ],
   "source": [
    "wt_rows = data_fits[data_fits['Enzyme'] == 'WT']\n",
    "\n",
    "# Display the filtered rows\n",
    "print(wt_rows)"
   ]
  },
  {
   "cell_type": "code",
   "execution_count": 28,
   "id": "8c5e1d3e-3a1c-48ad-9397-6a8d3014d663",
   "metadata": {
    "scrolled": true
   },
   "outputs": [
    {
     "data": {
      "text/plain": [
       "0    MLTKATKEQKSLVKNRGAELVVDCLINQGVTHVFGIPGAKIDAVFD...\n",
       "1    MLTKATKEQKSLVKNRGAELVVDCLINQGVTHVFGIPGAKIDAVFD...\n",
       "Name: Sequence, dtype: object"
      ]
     },
     "execution_count": 28,
     "metadata": {},
     "output_type": "execute_result"
    }
   ],
   "source": [
    "df_seq_uniq.head(2)"
   ]
  },
  {
   "cell_type": "markdown",
   "id": "9654b620-62f5-475e-a93a-025c622df2d0",
   "metadata": {},
   "source": [
    "### Split into train/test"
   ]
  },
  {
   "cell_type": "markdown",
   "id": "1acb770b-d8c8-4e77-bddd-2994daca523f",
   "metadata": {},
   "source": [
    "TODO Run more thorough evaluations\n",
    "1. Random split holdout of all data\n",
    "2. Random split holdout of proteins with pH range data to see if the pH optimum data improves the pH range predictions\n",
    "3. 10-fold CV\n",
    "4. Assign sequences to uniref50 clusters and holdout a subset of those clusters\n",
    "    - More stringent evaluation to see how well the model can extrapolate to proteins with low sequence similarity to those in the training set"
   ]
  },
  {
   "cell_type": "code",
   "execution_count": 29,
   "id": "d8a126d5-c087-4e99-8ace-036232919cf6",
   "metadata": {},
   "outputs": [
    {
     "name": "stdout",
     "output_type": "stream",
     "text": [
      "122 14\n"
     ]
    }
   ],
   "source": [
    "# just take a random split for now\n",
    "from sklearn.model_selection import train_test_split\n",
    "train, test = train_test_split(df_seq_uniq.values, test_size=0.1)\n",
    "train = set(train)\n",
    "test = set(test)\n",
    "print(len(train), len(test))"
   ]
  },
  {
   "cell_type": "code",
   "execution_count": null,
   "id": "c6b884d8-823b-4891-8e6c-7b6e7ff8aa15",
   "metadata": {},
   "outputs": [],
   "source": []
  },
  {
   "cell_type": "code",
   "execution_count": 30,
   "id": "39b20322-b2d2-4406-8aab-f14bcfa3aaf9",
   "metadata": {},
   "outputs": [],
   "source": [
    "# # optionally run this instead to keep the same train and test set as previous run\n",
    "# split_file = \"results/20230914_ph_range/df_split.csv\"\n",
    "# df = pd.read_csv(split_file)\n",
    "# test = df[df.set == \"test\"]\n",
    "# print(len(test))\n",
    "# test.head(2)\n",
    "# # train = df_seq_uniq[~df_seq_uniq.uniprot_id.isin(df_test.uniprot_id)].set_index('uniprot_id')\n",
    "# # test = df_seq_uniq[df_seq_uniq.uniprot_id.isin(df_test.uniprot_id)].set_index('uniprot_id')\n",
    "# # print(len(train), len(test))"
   ]
  },
  {
   "cell_type": "code",
   "execution_count": 31,
   "id": "ba95c9ba-6d47-481f-8dea-70e09b676e89",
   "metadata": {},
   "outputs": [
    {
     "data": {
      "text/html": [
       "<div>\n",
       "<style scoped>\n",
       "    .dataframe tbody tr th:only-of-type {\n",
       "        vertical-align: middle;\n",
       "    }\n",
       "\n",
       "    .dataframe tbody tr th {\n",
       "        vertical-align: top;\n",
       "    }\n",
       "\n",
       "    .dataframe thead th {\n",
       "        text-align: right;\n",
       "    }\n",
       "</style>\n",
       "<table border=\"1\" class=\"dataframe\">\n",
       "  <thead>\n",
       "    <tr style=\"text-align: right;\">\n",
       "      <th></th>\n",
       "      <th>Enzyme</th>\n",
       "      <th>Sequence</th>\n",
       "      <th>retained</th>\n",
       "      <th>split</th>\n",
       "    </tr>\n",
       "  </thead>\n",
       "  <tbody>\n",
       "    <tr>\n",
       "      <th>0</th>\n",
       "      <td>A375I</td>\n",
       "      <td>MLTKATKEQKSLVKNRGAELVVDCLINQGVTHVFGIPGAKIDAVFD...</td>\n",
       "      <td>0.371118</td>\n",
       "      <td>train</td>\n",
       "    </tr>\n",
       "    <tr>\n",
       "      <th>1</th>\n",
       "      <td>A375L</td>\n",
       "      <td>MLTKATKEQKSLVKNRGAELVVDCLINQGVTHVFGIPGAKIDAVFD...</td>\n",
       "      <td>0.447088</td>\n",
       "      <td>train</td>\n",
       "    </tr>\n",
       "  </tbody>\n",
       "</table>\n",
       "</div>"
      ],
      "text/plain": [
       "  Enzyme                                           Sequence  retained  split\n",
       "0  A375I  MLTKATKEQKSLVKNRGAELVVDCLINQGVTHVFGIPGAKIDAVFD...  0.371118  train\n",
       "1  A375L  MLTKATKEQKSLVKNRGAELVVDCLINQGVTHVFGIPGAKIDAVFD...  0.447088  train"
      ]
     },
     "execution_count": 31,
     "metadata": {},
     "output_type": "execute_result"
    }
   ],
   "source": [
    "def train_test_split(seq):\n",
    "    if isinstance(test, set):\n",
    "        if seq in test:\n",
    "            return \"test\"\n",
    "    else:\n",
    "        if seq in test.Sequence.values:\n",
    "            return \"test\"\n",
    "    return \"train\"\n",
    "\n",
    "data_fits['split'] = data_fits.Sequence.apply(train_test_split)\n",
    "df_split = data_fits[[\"Enzyme\", \"Sequence\", \"retained\", \"split\"]].drop_duplicates()\n",
    "df_split.head(2)"
   ]
  },
  {
   "cell_type": "markdown",
   "id": "a4764dd1-dd39-4d85-8204-8836fefd9665",
   "metadata": {},
   "source": [
    "### Choose the columns to use as features"
   ]
  },
  {
   "cell_type": "code",
   "execution_count": 32,
   "id": "0c3f611e-5fe3-437f-b6b1-604a91032108",
   "metadata": {},
   "outputs": [],
   "source": [
    "from sklearn.preprocessing import OneHotEncoder"
   ]
  },
  {
   "cell_type": "code",
   "execution_count": 33,
   "id": "614af097-10ab-4034-a5f9-fb6c994cf0e6",
   "metadata": {},
   "outputs": [],
   "source": [
    "# reaction type should be relabeled \"redox_type\"\n",
    "# categ_cols = ['reaction_type']\n",
    "# categ_cols = ['reaction_type', 'enzyme_type']\n",
    "# categ_cols = ['reaction_type', 'enzyme_type', 'enzyme_type_sub']\n",
    "#categ_cols = ['reaction_type', 'enzyme_type', 'enzyme_type_sub', 'acceptor']"
   ]
  },
  {
   "cell_type": "code",
   "execution_count": 34,
   "id": "5b50226e-c3bd-44ff-9304-aef29d607de3",
   "metadata": {},
   "outputs": [],
   "source": [
    "# def get_one_hot_encoder(data_fits, categ_cols):\n",
    "#     enc = OneHotEncoder(drop=[np.nan] * len(categ_cols))\n",
    "#     enc.fit(data_fits[categ_cols])\n",
    "#     return enc\n",
    "\n",
    "# enc = get_one_hot_encoder(data_fits, categ_cols)"
   ]
  },
  {
   "cell_type": "markdown",
   "id": "d01d4ac0-7707-4a31-bbe7-45db58041d94",
   "metadata": {},
   "source": [
    "### Predict a normal distribution for each sequence\n",
    "The loss will be the MAE of the points compared to the curve"
   ]
  },
  {
   "cell_type": "code",
   "execution_count": 35,
   "id": "366653e4-f663-4f9e-8fc7-6dd63b0d6883",
   "metadata": {},
   "outputs": [
    {
     "data": {
      "text/plain": [
       "split\n",
       "train    122\n",
       "test      14\n",
       "Name: count, dtype: int64"
      ]
     },
     "execution_count": 35,
     "metadata": {},
     "output_type": "execute_result"
    }
   ],
   "source": [
    "df_split.split.value_counts()"
   ]
  },
  {
   "cell_type": "code",
   "execution_count": 36,
   "id": "82971edf-d446-453f-a3a6-f9a100d965d6",
   "metadata": {},
   "outputs": [],
   "source": [
    "# seq_idx = {seq: idx for idx, seq in df_seq.sequence.items\n",
    "seq_idx = dict(zip(df_seq.Sequence, df_seq.reset_index().index))\n",
    "# print(list(seq_idx.items())[:2])"
   ]
  },
  {
   "cell_type": "code",
   "execution_count": 37,
   "id": "790bcd6e-f252-47ea-9f99-7fdfa9cc19bc",
   "metadata": {},
   "outputs": [
    {
     "data": {
      "text/html": [
       "<div>\n",
       "<style scoped>\n",
       "    .dataframe tbody tr th:only-of-type {\n",
       "        vertical-align: middle;\n",
       "    }\n",
       "\n",
       "    .dataframe tbody tr th {\n",
       "        vertical-align: top;\n",
       "    }\n",
       "\n",
       "    .dataframe thead th {\n",
       "        text-align: right;\n",
       "    }\n",
       "</style>\n",
       "<table border=\"1\" class=\"dataframe\">\n",
       "  <thead>\n",
       "    <tr style=\"text-align: right;\">\n",
       "      <th></th>\n",
       "      <th>Enzyme</th>\n",
       "      <th>Sequence</th>\n",
       "      <th>retained</th>\n",
       "      <th>split</th>\n",
       "    </tr>\n",
       "  </thead>\n",
       "  <tbody>\n",
       "    <tr>\n",
       "      <th>0</th>\n",
       "      <td>A375I</td>\n",
       "      <td>MLTKATKEQKSLVKNRGAELVVDCLINQGVTHVFGIPGAKIDAVFD...</td>\n",
       "      <td>0.371118</td>\n",
       "      <td>train</td>\n",
       "    </tr>\n",
       "    <tr>\n",
       "      <th>1</th>\n",
       "      <td>A375L</td>\n",
       "      <td>MLTKATKEQKSLVKNRGAELVVDCLINQGVTHVFGIPGAKIDAVFD...</td>\n",
       "      <td>0.447088</td>\n",
       "      <td>train</td>\n",
       "    </tr>\n",
       "  </tbody>\n",
       "</table>\n",
       "</div>"
      ],
      "text/plain": [
       "  Enzyme                                           Sequence  retained  split\n",
       "0  A375I  MLTKATKEQKSLVKNRGAELVVDCLINQGVTHVFGIPGAKIDAVFD...  0.371118  train\n",
       "1  A375L  MLTKATKEQKSLVKNRGAELVVDCLINQGVTHVFGIPGAKIDAVFD...  0.447088  train"
      ]
     },
     "execution_count": 37,
     "metadata": {},
     "output_type": "execute_result"
    }
   ],
   "source": [
    "df_train = data_fits[data_fits.split == \"train\"]\n",
    "df_test = data_fits[data_fits.split == \"test\"]\n",
    "df_train.head(2)"
   ]
  },
  {
   "cell_type": "code",
   "execution_count": 38,
   "id": "127e54c7-7b18-4f64-bc19-0e34fc250b6a",
   "metadata": {},
   "outputs": [
    {
     "name": "stdout",
     "output_type": "stream",
     "text": [
      "(122, 1280) 0.90\n",
      "(14, 1280) 0.10\n"
     ]
    }
   ],
   "source": [
    "def get_embeddings_and_features(df, embeddings, seq_idx):\n",
    "    # some of the sequences are repeated, so get their embeddings by index\n",
    "    X_split = np.asarray([embeddings[seq_idx[seq]] for seq in df.Sequence.values])\n",
    "    #encoded_features = enc.transform(df[categ_cols]).toarray()\n",
    "    #X_split = np.hstack([X_split, encoded_features])\n",
    "    y_split = df[['retained']].values\n",
    "    return X_split, y_split\n",
    "\n",
    "# combine the sequence embeddings with the one-hot encoding of additional features (e.g., enzyme type, reaction type)\n",
    "X_train, y_train = get_embeddings_and_features(df_train, embeddings, seq_idx)\n",
    "X_test, y_test = get_embeddings_and_features(df_test, embeddings, seq_idx)\n",
    "print(X_train.shape, f\"{len(df_train) / (len(df_train) + len(df_test)):0.2f}\")\n",
    "print(X_test.shape, f\"{len(df_test) / (len(df_train) + len(df_test)):0.2f}\")"
   ]
  },
  {
   "cell_type": "code",
   "execution_count": 39,
   "id": "686275c6-1b6a-461e-937e-d40c035e0334",
   "metadata": {},
   "outputs": [
    {
     "data": {
      "text/plain": [
       "(14, 1280)"
      ]
     },
     "execution_count": 39,
     "metadata": {},
     "output_type": "execute_result"
    }
   ],
   "source": [
    "X_test.shape"
   ]
  },
  {
   "cell_type": "code",
   "execution_count": 40,
   "id": "69b4db9f-f2de-4882-b3ce-70ad36ce43ae",
   "metadata": {},
   "outputs": [
    {
     "name": "stdout",
     "output_type": "stream",
     "text": [
      "0.9123750228314128 0.10926165791505646\n",
      "0.7027809324927239 0.24707705974357758\n"
     ]
    }
   ],
   "source": [
    "# max and min pH optimum\n",
    "print(y_train[:,0].max(), y_train[:,0].min())\n",
    "print(y_test[:,0].max(), y_test[:,0].min())"
   ]
  },
  {
   "cell_type": "code",
   "execution_count": 41,
   "id": "3ad9e381-3efe-4f75-8449-181e79c7ca1e",
   "metadata": {},
   "outputs": [],
   "source": [
    "import torch\n",
    "from torch import nn\n",
    "import pytorch_lightning as pl\n",
    "import torchmetrics"
   ]
  },
  {
   "cell_type": "code",
   "execution_count": 42,
   "id": "bbfb2ed6-cce3-4375-8935-ba8c196d9ed8",
   "metadata": {},
   "outputs": [],
   "source": [
    "class neural_network_fits(pl.LightningModule):\n",
    "    def __init__(self, initial_layer_size=1280, lr=1e-3):\n",
    "        \"\"\" Given an input esm2 sequence embedding, \n",
    "        predicts the retained activity.\n",
    "        \"\"\"\n",
    "        super(neural_network_fits, self).__init__()\n",
    "        self.linear_relu_stack = nn.Sequential(\n",
    "            nn.Linear(initial_layer_size, 512),\n",
    "            nn.LeakyReLU(),            \n",
    "            nn.Linear(512, 512),\n",
    "            nn.LeakyReLU(),\n",
    "            nn.Linear(512, 2),\n",
    "        )\n",
    "        self.lr = lr\n",
    "        # l1 loss reduction\n",
    "        self.reduction = \"mean\"\n",
    "\n",
    "    def forward(self, x):\n",
    "        # predict the mean and std deviation\n",
    "        logits = self.linear_relu_stack(x)\n",
    "        # return logits\n",
    "        # y_pred_mean, y_pred_sigma = logits[:,0], logits[:,1]\n",
    "\n",
    "        # take the sigmoid of the pH mean logits, then multiply by 13 to get in the range 0-13\n",
    "        y_pred = torch.sigmoid(logits[:,0])\n",
    "        #y_pred_mean = torch.multiply(y_pred_mean, 13)\n",
    "        # limit the standard deviation to between 0 and 4.25\n",
    "        #y_pred_sigma = torch.sigmoid(logits[:,1])\n",
    "        #y_pred_sigma = torch.multiply(y_pred_sigma, 4.25)\n",
    "        return y_pred\n",
    "#         return dist, y_pred_mean, y_pred_sigma\n",
    "\n",
    "    def training_step(self, batch, batch_idx):\n",
    "        x, y = batch\n",
    "        y_true = y[:,0]\n",
    "        \n",
    "        # logits = self(x)\n",
    "        # y_pred_mean, y_pred_sigma = logits[:,0], logits[:,1]\n",
    "        y_pred = self(x)\n",
    "\n",
    "        # use mse_loss or l1_loss (mae) on both the ph opt\n",
    "        loss = nn.functional.l1_loss(y_pred, y_true, reduction=self.reduction)\n",
    "        # and the ph standard deviation. Only use rows that are not nan\n",
    "        #loss += nn.functional.l1_loss(y_pred_sigma[~torch.isnan(y_std)], \n",
    "         #                             y_std[~torch.isnan(y_std)],\n",
    "         #                             reduction=self.reduction)\n",
    "        self.log('train_loss', loss)\n",
    "        return loss\n",
    "    \n",
    "#     def validation_step(self, batch, batch_idx):\n",
    "#         x, y = batch\n",
    "#         y_ph, y_act = y[:,0], y[:,1]\n",
    "        \n",
    "#         y_pred = self(x)\n",
    "#         y_pred_mean, y_pred_sigma = y_pred[:,0], y[:,1]\n",
    "#         y_pred_act = self.get_gaus_pred(y_ph, y_pred_mean, y_pred_sigma)\n",
    "\n",
    "#         loss = nn.functional.l1_loss(y_pred_act, y_act)\n",
    "#         self.log(\"val_loss\", loss)\n",
    "        \n",
    "    def configure_optimizers(self):\n",
    "        optimizer = torch.optim.Adam(self.parameters(), lr=self.lr)\n",
    "        return optimizer"
   ]
  },
  {
   "cell_type": "code",
   "execution_count": 43,
   "id": "f1ae9480-7fa5-4a6e-97ae-d1bcd9d5bdac",
   "metadata": {},
   "outputs": [],
   "source": [
    "def fit_model(X_train, y_train, X_valid, epochs=20, lr=1e-3):\n",
    "    pl.seed_everything(42)\n",
    "    model = neural_network_fits(initial_layer_size=X_train.shape[1], \n",
    "                                lr=lr,\n",
    "                               )\n",
    "    \n",
    "    trainer = pl.Trainer(\n",
    "        # gpus=-1,\n",
    "        # devices=0,\n",
    "        accelerator=\"gpu\",\n",
    "        max_epochs=epochs,\n",
    "        check_val_every_n_epoch=5)\n",
    "    \n",
    "    train_dataset = torch.utils.data.TensorDataset(torch.Tensor(X_train).to(device), torch.Tensor(y_train).to(device))\n",
    "    # valid_dataset = torch.utils.data.TensorDataset(torch.Tensor(X_valid), torch.Tensor(y_valid))\n",
    "\n",
    "    train_loader = torch.utils.data.DataLoader(train_dataset, batch_size=32, shuffle=True)\n",
    "    # valid_loader = torch.utils.data.DataLoader(valid_dataset, batch_size=16, shuffle=False)\n",
    "\n",
    "    trainer.fit(model, train_loader)\n",
    "    \n",
    "    return model, trainer"
   ]
  },
  {
   "cell_type": "code",
   "execution_count": 44,
   "id": "90bb674b-deff-4987-9a04-ce918c4c6fad",
   "metadata": {},
   "outputs": [
    {
     "data": {
      "text/plain": [
       "'cuda:0'"
      ]
     },
     "execution_count": 44,
     "metadata": {},
     "output_type": "execute_result"
    }
   ],
   "source": [
    "device = 'cuda:0' if torch.cuda.is_available() else 'cpu'\n",
    "device"
   ]
  },
  {
   "cell_type": "code",
   "execution_count": 177,
   "id": "123ffaac-7263-439d-905a-b80406e79d2d",
   "metadata": {},
   "outputs": [],
   "source": [
    "# For debugging, just look at 10 rows\n",
    "# X_train_2 = X_train[:10,:]\n",
    "# y_train_2 = y_train[:10,:]\n",
    "# X_test_2 = X_test[:10,:]\n",
    "# head_model_2 = fit_model(X_train_2, y_train_2, X_test_2, epochs=20)"
   ]
  },
  {
   "cell_type": "code",
   "execution_count": 45,
   "id": "1ba5bae3-d409-4074-8c22-a11d928266b3",
   "metadata": {},
   "outputs": [],
   "source": [
    "def eval_model(head_model, X_test, y_test, to_print=\"\"):\n",
    "    # logits = head_model(torch.Tensor(X_test)).detach().numpy()\n",
    "    # y_pred_mean, y_pred_sigma = logits[:,0], logits[:,1]\n",
    "    y_pred = head_model(torch.Tensor(X_test))\n",
    "    y_pred= y_pred.detach().numpy()\n",
    "    y_true = y_test[:,0]\n",
    "    df_err = pd.DataFrame({\"activity retained\": y_true, \"NN activity retained\": y_pred})\n",
    "    #y_pred_sigma = y_pred_sigma[~np.isnan(y_std)]\n",
    "    #y_std = y_std[~np.isnan(y_std)]\n",
    "\n",
    "    # now calculate the overall MAE\n",
    "    # build a df instead of printing?\n",
    "    # df_err = []\n",
    "    print(\"split, epochs, lr, features, MAE, MSE, spearman rho, pearson r2\")\n",
    "    #for y_true, y_pred, name in zip([y_opt, y_std], [y_pred_mean, y_pred_sigma], [\"pH opt\", \"pH std\"]):\n",
    "    rho, _ = spearmanr(y_pred, y_true)  # spearman\n",
    "    r2, _ = pearsonr(y_pred, y_true)  # spearman\n",
    "    mse = mean_squared_error(y_pred, y_true)  # Mean Squared Error\n",
    "    mae = np.mean(np.abs(y_pred - y_true))  # Mean Absolute Error\n",
    "    print(f\"{to_print}{'Retained %'}, {mae:0.2f}, {mse:0.2f}, {rho:0.2f}, {r2:0.2f}\")\n",
    "        \n",
    "    return y_pred, df_err"
   ]
  },
  {
   "cell_type": "code",
   "execution_count": 46,
   "id": "fa8483dc-3a7e-471a-97af-cb53a0d16e1f",
   "metadata": {},
   "outputs": [
    {
     "data": {
      "text/plain": [
       "(14, 1280)"
      ]
     },
     "execution_count": 46,
     "metadata": {},
     "output_type": "execute_result"
    }
   ],
   "source": [
    "X_test.shape"
   ]
  },
  {
   "cell_type": "code",
   "execution_count": 50,
   "id": "2449ca64-22ac-4285-a184-573fc61dc8ce",
   "metadata": {},
   "outputs": [
    {
     "name": "stderr",
     "output_type": "stream",
     "text": [
      "Seed set to 42\n",
      "Trainer will use only 1 of 2 GPUs because it is running inside an interactive / notebook environment. You may try to set `Trainer(devices=2)` but please note that multi-GPU inside interactive / notebook environments is considered experimental and unstable. Your mileage may vary.\n",
      "/home/amondal2/.conda-envs/prot-eng/lib/python3.10/site-packages/lightning_fabric/plugins/environments/slurm.py:204: The `srun` command is available on your system but is not used. HINT: If your intention is to run Lightning on SLURM, prepend your python command with `srun` like so: srun python /home/amondal2/.conda-envs/prot-eng/lib/python3.10/s ...\n",
      "GPU available: True (cuda), used: True\n",
      "TPU available: False, using: 0 TPU cores\n",
      "IPU available: False, using: 0 IPUs\n",
      "HPU available: False, using: 0 HPUs\n",
      "LOCAL_RANK: 0 - CUDA_VISIBLE_DEVICES: [0,1]\n",
      "\n",
      "  | Name              | Type       | Params\n",
      "-------------------------------------------------\n",
      "0 | linear_relu_stack | Sequential | 919 K \n",
      "-------------------------------------------------\n",
      "919 K     Trainable params\n",
      "0         Non-trainable params\n",
      "919 K     Total params\n",
      "3.678     Total estimated model params size (MB)\n",
      "/home/amondal2/.conda-envs/prot-eng/lib/python3.10/site-packages/pytorch_lightning/trainer/connectors/data_connector.py:441: The 'train_dataloader' does not have many workers which may be a bottleneck. Consider increasing the value of the `num_workers` argument` to `num_workers=103` in the `DataLoader` to improve performance.\n",
      "/home/amondal2/.conda-envs/prot-eng/lib/python3.10/site-packages/pytorch_lightning/loops/fit_loop.py:298: The number of training batches (4) is smaller than the logging interval Trainer(log_every_n_steps=50). Set a lower value for log_every_n_steps if you want to see logs for the training epoch.\n"
     ]
    },
    {
     "name": "stdout",
     "output_type": "stream",
     "text": [
      "Epoch 29999: 100%|██████████████████████████████████████████████████████████████████████████| 4/4 [00:00<00:00, 210.29it/s, v_num=11]"
     ]
    },
    {
     "name": "stderr",
     "output_type": "stream",
     "text": [
      "`Trainer.fit` stopped: `max_epochs=30000` reached.\n"
     ]
    },
    {
     "name": "stdout",
     "output_type": "stream",
     "text": [
      "Epoch 29999: 100%|██████████████████████████████████████████████████████████████████████████| 4/4 [00:00<00:00, 193.87it/s, v_num=11]\n",
      "split, epochs, lr, features, MAE, MSE, spearman rho, pearson r2\n",
      "test, 30000, 0.0001Retained %, 0.14, 0.04, -0.32, -0.57\n",
      "split, epochs, lr, features, MAE, MSE, spearman rho, pearson r2\n",
      "train, 30000, 0.0001Retained %, 0.02, 0.00, 0.97, 0.96\n"
     ]
    },
    {
     "data": {
      "text/plain": [
       "(array([0.4048073 , 0.48052645, 0.5918584 , 0.48889968, 0.7252702 ,\n",
       "        0.6578152 , 0.56938446, 0.62585914, 0.31349474, 0.36940506,\n",
       "        0.5363071 , 0.48630458, 0.41502112, 0.4483537 , 0.3578903 ,\n",
       "        0.38575947, 0.556525  , 0.4081842 , 0.3220808 , 0.6081343 ,\n",
       "        0.37349746, 0.51208186, 0.4136129 , 0.3611438 , 0.22658508,\n",
       "        0.368486  , 0.6514426 , 0.5003318 , 0.4448905 , 0.7746968 ,\n",
       "        0.50337476, 0.39870787, 0.32901555, 0.5184725 , 0.33669117,\n",
       "        0.35198146, 0.56026834, 0.5002501 , 0.3607296 , 0.39681977,\n",
       "        0.7422639 , 0.6705812 , 0.5619385 , 0.36051095, 0.34001496,\n",
       "        0.2530181 , 0.49997824, 0.3000775 , 0.3321474 , 0.34933895,\n",
       "        0.34351555, 0.34125397, 0.4289177 , 0.6285019 , 0.43814096,\n",
       "        0.38772875, 0.5139096 , 0.47561926, 0.2656313 , 0.30280867,\n",
       "        0.36249748, 0.45031625, 0.39157164, 0.37603104, 0.5913257 ,\n",
       "        0.37089723, 0.61580735, 0.6279015 , 0.34982508, 0.60708815,\n",
       "        0.36697495, 0.37106484, 0.34787953, 0.64808124, 0.33504102,\n",
       "        0.4926329 , 0.37953833, 0.49232543, 0.335263  , 0.38008654,\n",
       "        0.38356274, 0.40978137, 0.4358714 , 0.52418363, 0.36174884,\n",
       "        0.36792612, 0.39503455, 0.41652486, 0.3438362 , 0.48379356,\n",
       "        0.417289  , 0.46044984, 0.42703778, 0.3168931 , 0.26305258,\n",
       "        0.29766288, 0.19028059, 0.18680267, 0.46990907, 0.2536768 ,\n",
       "        0.3116694 , 0.35577542, 0.36667714, 0.4842048 , 0.5965279 ,\n",
       "        0.38596034, 0.34741575, 0.43078896, 0.45396703, 0.63113815,\n",
       "        0.48805752, 0.3279205 , 0.7498996 , 0.49958912, 0.60986984,\n",
       "        0.5547677 , 0.3242881 , 0.37031776, 0.30902767, 0.5131337 ,\n",
       "        0.78566825, 0.38325942], dtype=float32),\n",
       "      activity retained  NN activity retained\n",
       " 0             0.371118              0.404807\n",
       " 1             0.447088              0.480526\n",
       " 2             0.594529              0.591858\n",
       " 3             0.459290              0.488900\n",
       " 4             0.725130              0.725270\n",
       " ..                 ...                   ...\n",
       " 117           0.375689              0.370318\n",
       " 118           0.230590              0.309028\n",
       " 119           0.509550              0.513134\n",
       " 120           0.912375              0.785668\n",
       " 121           0.288859              0.383259\n",
       " \n",
       " [122 rows x 2 columns])"
      ]
     },
     "execution_count": 50,
     "metadata": {},
     "output_type": "execute_result"
    }
   ],
   "source": [
    "# TODO run a full hyperparameter optimization\n",
    "epochs = 30000\n",
    "lr = 1e-4\n",
    "# the model performs better with more of these features, \n",
    "# but they are not always available\n",
    "#categ_col_sets = [\n",
    "    # ['reaction_type'],\n",
    "    # ['reaction_type', 'enzyme_type'],\n",
    "    # ['reaction_type', 'enzyme_type', 'enzyme_type_sub'],\n",
    "    #['reaction_type', 'enzyme_type', 'enzyme_type_sub', 'acceptor'],\n",
    "#]\n",
    "#for categ_cols in categ_col_sets:\n",
    "  #  enc = get_one_hot_encoder(data_fits, categ_cols)\n",
    "  #  X_train, y_train = get_embeddings_and_features(df_train, embeddings, seq_idx, enc, categ_cols)\n",
    "   # X_test, y_test = get_embeddings_and_features(df_test, embeddings, seq_idx, enc, categ_cols)\n",
    "# for batch_size in \n",
    "head_model, trainer = fit_model(X_train, y_train, X_test, epochs=epochs, lr=lr)\n",
    "eval_model(head_model, X_test, y_test, f\"test, {epochs}, {lr}\")\n",
    "eval_model(head_model, X_train, y_train, f\"train, {epochs}, {lr}\")"
   ]
  },
  {
   "cell_type": "code",
   "execution_count": 51,
   "id": "c6b54ee6-1054-4e18-922d-119a4b63e180",
   "metadata": {},
   "outputs": [
    {
     "name": "stdout",
     "output_type": "stream",
     "text": [
      "split, epochs, lr, features, MAE, MSE, spearman rho, pearson r2\n",
      "test, 30000, 0.0001,Retained %, 0.14, 0.04, -0.32, -0.57\n"
     ]
    }
   ],
   "source": [
    "y_pred, df_err = eval_model(head_model, X_test, y_test, f\"test, {epochs}, {lr},\")"
   ]
  },
  {
   "cell_type": "code",
   "execution_count": 200,
   "id": "a5366072-fefe-4a32-91e8-13ca8a40eee7",
   "metadata": {},
   "outputs": [
    {
     "name": "stdout",
     "output_type": "stream",
     "text": [
      "split, epochs, lr, features, MAE, MSE, spearman rho, pearson r2\n",
      "test, 10000, 0.0001,Retained %, 0.11, 0.01, 0.09, 0.21\n"
     ]
    }
   ],
   "source": [
    "y_pred, df_err = eval_model(head_model, X_test, y_test, f\"test, {epochs}, {lr},\")"
   ]
  },
  {
   "cell_type": "code",
   "execution_count": 222,
   "id": "fa7a3519-289f-4482-a5d7-dffab4afbf58",
   "metadata": {},
   "outputs": [
    {
     "data": {
      "text/html": [
       "<div>\n",
       "<style scoped>\n",
       "    .dataframe tbody tr th:only-of-type {\n",
       "        vertical-align: middle;\n",
       "    }\n",
       "\n",
       "    .dataframe tbody tr th {\n",
       "        vertical-align: top;\n",
       "    }\n",
       "\n",
       "    .dataframe thead th {\n",
       "        text-align: right;\n",
       "    }\n",
       "</style>\n",
       "<table border=\"1\" class=\"dataframe\">\n",
       "  <thead>\n",
       "    <tr style=\"text-align: right;\">\n",
       "      <th></th>\n",
       "      <th>activity retained</th>\n",
       "      <th>ML activity retained</th>\n",
       "    </tr>\n",
       "  </thead>\n",
       "  <tbody>\n",
       "    <tr>\n",
       "      <th>0</th>\n",
       "      <td>0.371118</td>\n",
       "      <td>0.467243</td>\n",
       "    </tr>\n",
       "    <tr>\n",
       "      <th>1</th>\n",
       "      <td>0.550919</td>\n",
       "      <td>0.349739</td>\n",
       "    </tr>\n",
       "    <tr>\n",
       "      <th>2</th>\n",
       "      <td>0.409293</td>\n",
       "      <td>0.344031</td>\n",
       "    </tr>\n",
       "    <tr>\n",
       "      <th>3</th>\n",
       "      <td>0.333290</td>\n",
       "      <td>0.490481</td>\n",
       "    </tr>\n",
       "    <tr>\n",
       "      <th>4</th>\n",
       "      <td>0.360944</td>\n",
       "      <td>0.401520</td>\n",
       "    </tr>\n",
       "    <tr>\n",
       "      <th>5</th>\n",
       "      <td>0.360415</td>\n",
       "      <td>0.586687</td>\n",
       "    </tr>\n",
       "    <tr>\n",
       "      <th>6</th>\n",
       "      <td>0.331707</td>\n",
       "      <td>0.437552</td>\n",
       "    </tr>\n",
       "    <tr>\n",
       "      <th>7</th>\n",
       "      <td>0.518494</td>\n",
       "      <td>0.465632</td>\n",
       "    </tr>\n",
       "    <tr>\n",
       "      <th>8</th>\n",
       "      <td>0.582515</td>\n",
       "      <td>0.532350</td>\n",
       "    </tr>\n",
       "    <tr>\n",
       "      <th>9</th>\n",
       "      <td>0.360495</td>\n",
       "      <td>0.502297</td>\n",
       "    </tr>\n",
       "    <tr>\n",
       "      <th>10</th>\n",
       "      <td>0.375607</td>\n",
       "      <td>0.469357</td>\n",
       "    </tr>\n",
       "    <tr>\n",
       "      <th>11</th>\n",
       "      <td>0.440804</td>\n",
       "      <td>0.494152</td>\n",
       "    </tr>\n",
       "    <tr>\n",
       "      <th>12</th>\n",
       "      <td>0.398505</td>\n",
       "      <td>0.484525</td>\n",
       "    </tr>\n",
       "    <tr>\n",
       "      <th>13</th>\n",
       "      <td>0.182289</td>\n",
       "      <td>0.326684</td>\n",
       "    </tr>\n",
       "  </tbody>\n",
       "</table>\n",
       "</div>"
      ],
      "text/plain": [
       "    activity retained  ML activity retained\n",
       "0            0.371118              0.467243\n",
       "1            0.550919              0.349739\n",
       "2            0.409293              0.344031\n",
       "3            0.333290              0.490481\n",
       "4            0.360944              0.401520\n",
       "5            0.360415              0.586687\n",
       "6            0.331707              0.437552\n",
       "7            0.518494              0.465632\n",
       "8            0.582515              0.532350\n",
       "9            0.360495              0.502297\n",
       "10           0.375607              0.469357\n",
       "11           0.440804              0.494152\n",
       "12           0.398505              0.484525\n",
       "13           0.182289              0.326684"
      ]
     },
     "execution_count": 222,
     "metadata": {},
     "output_type": "execute_result"
    }
   ],
   "source": [
    "df_err"
   ]
  },
  {
   "cell_type": "code",
   "execution_count": 214,
   "id": "b131ecf4-8fa6-416f-99b1-4096aaf281c0",
   "metadata": {},
   "outputs": [
    {
     "data": {
      "image/png": "[encoded data removed]",
      "text/plain": [
       "<Figure size 800x600 with 1 Axes>"
      ]
     },
     "metadata": {},
     "output_type": "display_data"
    }
   ],
   "source": [
    "import matplotlib.pyplot as plt\n",
    "import seaborn as sns\n",
    "\n",
    "\n",
    "\n",
    "# Create a scatter plot\n",
    "plt.figure(figsize=(8, 6))\n",
    "sns.scatterplot(x=y_test[:,0], y=y_pred)\n",
    "\n",
    "# Add a line for perfect prediction\n",
    "plt.plot([min(y_test[:,0]), max(y_test[:,0])], [min(y_test[:,0]), max(y_test[:,0])], color='red', linestyle='--')\n",
    "\n",
    "# Set labels and title\n",
    "plt.xlabel('True Values')\n",
    "plt.ylabel('Predicted Values')\n",
    "plt.title('Predicted vs True Values')\n",
    "plt.axis('equal')  # Ensure equal scaling\n",
    "plt.grid()\n",
    "plt.show()\n"
   ]
  },
  {
   "cell_type": "markdown",
   "id": "d426158e-1d36-43ee-8797-ca7ac9b73038",
   "metadata": {},
   "source": [
    "### Build neural net on sequence embeddings\n",
    "\n",
    "TODO Try out different approaches to make predictions. Checkout the [UniKP](https://doi.org/10.1038/s41467-023-44113-1) paper for a good example\n",
    "- Linear Regression, Ridge Regression\n",
    "- Decision Tree, Random Forest, Gradient Boosting, AdaBoost\n",
    "- Extra Trees (Performed the best)\n",
    "- LGBM\n",
    "- Feed forward neural network (implemented here)\n",
    "- CNN, RNN"
   ]
  },
  {
   "cell_type": "code",
   "execution_count": 219,
   "id": "0791f35b-4b80-434f-aeda-26e83eda5682",
   "metadata": {},
   "outputs": [],
   "source": [
    "def run_simple_pred(model, X_train, y_train, X_test, y_test):\n",
    "    # split into ph opt and ph range data\n",
    "    #train_pho, train_phr = y_train[:,0], y_train[:,1]\n",
    "    #test_pho, test_phr = y_test[:,0], y_test[:,1]\n",
    "    # limit ph range to non-nan values\n",
    "    y_train = y_train[:,0][~np.isnan(y_train[:,0])]\n",
    "    y_test = y_test[:,0][~np.isnan(y_test[:,0])]\n",
    "\n",
    "    model_act = model().fit(X_train, y_train)\n",
    "    #train_phr_idx = np.argwhere(~np.isnan(y_train[:,1])).flatten()\n",
    "    #model_phr = model().fit(X_train[train_phr_idx,:], train_phr)\n",
    "\n",
    "    pred_retained = model_act.predict(X_test)\n",
    "    #pred_phr = model_phr.predict(X_test)\n",
    "    \n",
    "    # combine the predictions back into a single vector(?)\n",
    "    # no need to subset predictions to originally non-nan\n",
    "    #y_pred = np.array(shape=y_test)\n",
    "    # y_pred[np.argwhere(~np.isnan(y_test[:,1])),1] = pred_phr\n",
    "    return pred_retained"
   ]
  },
  {
   "cell_type": "code",
   "execution_count": 220,
   "id": "1751e8be-d765-4b67-986e-756dca93c289",
   "metadata": {},
   "outputs": [
    {
     "name": "stdout",
     "output_type": "stream",
     "text": [
      "LR <class 'sklearn.linear_model._base.LinearRegression'>\n",
      "RR <class 'sklearn.linear_model._ridge.Ridge'>\n",
      "KR <class 'sklearn.kernel_ridge.KernelRidge'>\n",
      "DTree <class 'sklearn.tree._classes.DecisionTreeRegressor'>\n",
      "RForest <class 'sklearn.ensemble._forest.RandomForestRegressor'>\n",
      "ExtraTrees <class 'sklearn.ensemble._forest.ExtraTreesRegressor'>\n",
      "GradientBoost <class 'sklearn.ensemble._gb.GradientBoostingRegressor'>\n",
      "AdaBoost <class 'sklearn.ensemble._weight_boosting.AdaBoostRegressor'>\n"
     ]
    },
    {
     "data": {
      "text/html": [
       "<div>\n",
       "<style scoped>\n",
       "    .dataframe tbody tr th:only-of-type {\n",
       "        vertical-align: middle;\n",
       "    }\n",
       "\n",
       "    .dataframe tbody tr th {\n",
       "        vertical-align: top;\n",
       "    }\n",
       "\n",
       "    .dataframe thead th {\n",
       "        text-align: right;\n",
       "    }\n",
       "</style>\n",
       "<table border=\"1\" class=\"dataframe\">\n",
       "  <thead>\n",
       "    <tr style=\"text-align: right;\">\n",
       "      <th></th>\n",
       "      <th>LR_retained</th>\n",
       "      <th>RR_retained</th>\n",
       "      <th>KR_retained</th>\n",
       "      <th>DTree_retained</th>\n",
       "      <th>RForest_retained</th>\n",
       "      <th>ExtraTrees_retained</th>\n",
       "      <th>GradientBoost_retained</th>\n",
       "      <th>AdaBoost_retained</th>\n",
       "    </tr>\n",
       "  </thead>\n",
       "  <tbody>\n",
       "    <tr>\n",
       "      <th>0</th>\n",
       "      <td>0.429688</td>\n",
       "      <td>0.438591</td>\n",
       "      <td>0.438201</td>\n",
       "      <td>0.388736</td>\n",
       "      <td>0.456574</td>\n",
       "      <td>0.466182</td>\n",
       "      <td>0.458730</td>\n",
       "      <td>0.460677</td>\n",
       "    </tr>\n",
       "    <tr>\n",
       "      <th>1</th>\n",
       "      <td>0.347656</td>\n",
       "      <td>0.437759</td>\n",
       "      <td>0.437259</td>\n",
       "      <td>0.352239</td>\n",
       "      <td>0.416073</td>\n",
       "      <td>0.427781</td>\n",
       "      <td>0.415256</td>\n",
       "      <td>0.405586</td>\n",
       "    </tr>\n",
       "    <tr>\n",
       "      <th>2</th>\n",
       "      <td>0.105469</td>\n",
       "      <td>0.437753</td>\n",
       "      <td>0.437275</td>\n",
       "      <td>0.507368</td>\n",
       "      <td>0.356533</td>\n",
       "      <td>0.371524</td>\n",
       "      <td>0.304394</td>\n",
       "      <td>0.375216</td>\n",
       "    </tr>\n",
       "    <tr>\n",
       "      <th>3</th>\n",
       "      <td>0.484375</td>\n",
       "      <td>0.438984</td>\n",
       "      <td>0.438775</td>\n",
       "      <td>0.630851</td>\n",
       "      <td>0.480841</td>\n",
       "      <td>0.479806</td>\n",
       "      <td>0.472900</td>\n",
       "      <td>0.485412</td>\n",
       "    </tr>\n",
       "    <tr>\n",
       "      <th>4</th>\n",
       "      <td>0.207031</td>\n",
       "      <td>0.439047</td>\n",
       "      <td>0.438909</td>\n",
       "      <td>0.419126</td>\n",
       "      <td>0.390861</td>\n",
       "      <td>0.383222</td>\n",
       "      <td>0.440056</td>\n",
       "      <td>0.451324</td>\n",
       "    </tr>\n",
       "    <tr>\n",
       "      <th>5</th>\n",
       "      <td>0.554688</td>\n",
       "      <td>0.440331</td>\n",
       "      <td>0.440684</td>\n",
       "      <td>0.725413</td>\n",
       "      <td>0.507374</td>\n",
       "      <td>0.528982</td>\n",
       "      <td>0.621894</td>\n",
       "      <td>0.599931</td>\n",
       "    </tr>\n",
       "    <tr>\n",
       "      <th>6</th>\n",
       "      <td>0.425781</td>\n",
       "      <td>0.439377</td>\n",
       "      <td>0.439402</td>\n",
       "      <td>0.299354</td>\n",
       "      <td>0.439017</td>\n",
       "      <td>0.447888</td>\n",
       "      <td>0.491369</td>\n",
       "      <td>0.453851</td>\n",
       "    </tr>\n",
       "    <tr>\n",
       "      <th>7</th>\n",
       "      <td>0.332031</td>\n",
       "      <td>0.437424</td>\n",
       "      <td>0.436744</td>\n",
       "      <td>0.178734</td>\n",
       "      <td>0.401759</td>\n",
       "      <td>0.399265</td>\n",
       "      <td>0.470081</td>\n",
       "      <td>0.451324</td>\n",
       "    </tr>\n",
       "    <tr>\n",
       "      <th>8</th>\n",
       "      <td>0.613281</td>\n",
       "      <td>0.438765</td>\n",
       "      <td>0.438705</td>\n",
       "      <td>0.434885</td>\n",
       "      <td>0.484327</td>\n",
       "      <td>0.505907</td>\n",
       "      <td>0.518641</td>\n",
       "      <td>0.453775</td>\n",
       "    </tr>\n",
       "    <tr>\n",
       "      <th>9</th>\n",
       "      <td>0.339844</td>\n",
       "      <td>0.438682</td>\n",
       "      <td>0.438515</td>\n",
       "      <td>0.388731</td>\n",
       "      <td>0.466795</td>\n",
       "      <td>0.447078</td>\n",
       "      <td>0.469728</td>\n",
       "      <td>0.465258</td>\n",
       "    </tr>\n",
       "    <tr>\n",
       "      <th>10</th>\n",
       "      <td>0.550781</td>\n",
       "      <td>0.439626</td>\n",
       "      <td>0.439622</td>\n",
       "      <td>0.332758</td>\n",
       "      <td>0.503178</td>\n",
       "      <td>0.505055</td>\n",
       "      <td>0.442161</td>\n",
       "      <td>0.473606</td>\n",
       "    </tr>\n",
       "    <tr>\n",
       "      <th>11</th>\n",
       "      <td>0.710938</td>\n",
       "      <td>0.438978</td>\n",
       "      <td>0.438883</td>\n",
       "      <td>0.365742</td>\n",
       "      <td>0.446012</td>\n",
       "      <td>0.455739</td>\n",
       "      <td>0.471037</td>\n",
       "      <td>0.453775</td>\n",
       "    </tr>\n",
       "    <tr>\n",
       "      <th>12</th>\n",
       "      <td>0.312500</td>\n",
       "      <td>0.439251</td>\n",
       "      <td>0.439141</td>\n",
       "      <td>0.311959</td>\n",
       "      <td>0.451278</td>\n",
       "      <td>0.492209</td>\n",
       "      <td>0.457926</td>\n",
       "      <td>0.473606</td>\n",
       "    </tr>\n",
       "    <tr>\n",
       "      <th>13</th>\n",
       "      <td>0.320312</td>\n",
       "      <td>0.438224</td>\n",
       "      <td>0.438091</td>\n",
       "      <td>0.509550</td>\n",
       "      <td>0.420385</td>\n",
       "      <td>0.385472</td>\n",
       "      <td>0.307076</td>\n",
       "      <td>0.365623</td>\n",
       "    </tr>\n",
       "  </tbody>\n",
       "</table>\n",
       "</div>"
      ],
      "text/plain": [
       "    LR_retained  RR_retained  KR_retained  DTree_retained  RForest_retained  \\\n",
       "0      0.429688     0.438591     0.438201        0.388736          0.456574   \n",
       "1      0.347656     0.437759     0.437259        0.352239          0.416073   \n",
       "2      0.105469     0.437753     0.437275        0.507368          0.356533   \n",
       "3      0.484375     0.438984     0.438775        0.630851          0.480841   \n",
       "4      0.207031     0.439047     0.438909        0.419126          0.390861   \n",
       "5      0.554688     0.440331     0.440684        0.725413          0.507374   \n",
       "6      0.425781     0.439377     0.439402        0.299354          0.439017   \n",
       "7      0.332031     0.437424     0.436744        0.178734          0.401759   \n",
       "8      0.613281     0.438765     0.438705        0.434885          0.484327   \n",
       "9      0.339844     0.438682     0.438515        0.388731          0.466795   \n",
       "10     0.550781     0.439626     0.439622        0.332758          0.503178   \n",
       "11     0.710938     0.438978     0.438883        0.365742          0.446012   \n",
       "12     0.312500     0.439251     0.439141        0.311959          0.451278   \n",
       "13     0.320312     0.438224     0.438091        0.509550          0.420385   \n",
       "\n",
       "    ExtraTrees_retained  GradientBoost_retained  AdaBoost_retained  \n",
       "0              0.466182                0.458730           0.460677  \n",
       "1              0.427781                0.415256           0.405586  \n",
       "2              0.371524                0.304394           0.375216  \n",
       "3              0.479806                0.472900           0.485412  \n",
       "4              0.383222                0.440056           0.451324  \n",
       "5              0.528982                0.621894           0.599931  \n",
       "6              0.447888                0.491369           0.453851  \n",
       "7              0.399265                0.470081           0.451324  \n",
       "8              0.505907                0.518641           0.453775  \n",
       "9              0.447078                0.469728           0.465258  \n",
       "10             0.505055                0.442161           0.473606  \n",
       "11             0.455739                0.471037           0.453775  \n",
       "12             0.492209                0.457926           0.473606  \n",
       "13             0.385472                0.307076           0.365623  "
      ]
     },
     "execution_count": 220,
     "metadata": {},
     "output_type": "execute_result"
    }
   ],
   "source": [
    "# run simple predictors first\n",
    "from sklearn.linear_model import LinearRegression\n",
    "from sklearn.linear_model import Ridge\n",
    "from sklearn.kernel_ridge import KernelRidge\n",
    "from sklearn.ensemble import RandomForestRegressor\n",
    "from sklearn.tree import DecisionTreeRegressor\n",
    "from sklearn.ensemble import ExtraTreesRegressor\n",
    "from sklearn.ensemble import GradientBoostingRegressor\n",
    "from sklearn.ensemble import AdaBoostRegressor\n",
    "\n",
    "df_pred = pd.DataFrame()\n",
    "for name, method in [(\"LR\", LinearRegression), \n",
    "                     (\"RR\", Ridge),\n",
    "                     (\"KR\", KernelRidge),\n",
    "                     (\"DTree\",DecisionTreeRegressor),\n",
    "                     (\"RForest\", RandomForestRegressor),\n",
    "                     (\"ExtraTrees\", ExtraTreesRegressor),\n",
    "                     (\"GradientBoost\", GradientBoostingRegressor),\n",
    "                     (\"AdaBoost\", AdaBoostRegressor),\n",
    "                    ]:\n",
    "    print(name, method)\n",
    "    pred_retained = run_simple_pred(method, X_train, y_train, X_test, y_test)\n",
    "    df_pred[f\"{name}_retained\"] = pred_retained\n",
    "    #df_pred[f\"{name}_phr\"] = pred_phr\n",
    "df_pred"
   ]
  },
  {
   "cell_type": "code",
   "execution_count": 228,
   "id": "73b3576a-e11f-454b-a665-58e8ea438b2b",
   "metadata": {},
   "outputs": [
    {
     "data": {
      "text/html": [
       "<div>\n",
       "<style scoped>\n",
       "    .dataframe tbody tr th:only-of-type {\n",
       "        vertical-align: middle;\n",
       "    }\n",
       "\n",
       "    .dataframe tbody tr th {\n",
       "        vertical-align: top;\n",
       "    }\n",
       "\n",
       "    .dataframe thead th {\n",
       "        text-align: right;\n",
       "    }\n",
       "</style>\n",
       "<table border=\"1\" class=\"dataframe\">\n",
       "  <thead>\n",
       "    <tr style=\"text-align: right;\">\n",
       "      <th></th>\n",
       "      <th>activity retained</th>\n",
       "      <th>NN_retained</th>\n",
       "      <th>LR_retained</th>\n",
       "      <th>RR_retained</th>\n",
       "      <th>KR_retained</th>\n",
       "      <th>DTree_retained</th>\n",
       "      <th>RForest_retained</th>\n",
       "      <th>ExtraTrees_retained</th>\n",
       "      <th>GradientBoost_retained</th>\n",
       "      <th>AdaBoost_retained</th>\n",
       "    </tr>\n",
       "  </thead>\n",
       "  <tbody>\n",
       "    <tr>\n",
       "      <th>0</th>\n",
       "      <td>0.371118</td>\n",
       "      <td>0.467243</td>\n",
       "      <td>0.429688</td>\n",
       "      <td>0.438591</td>\n",
       "      <td>0.438201</td>\n",
       "      <td>0.388736</td>\n",
       "      <td>0.456574</td>\n",
       "      <td>0.466182</td>\n",
       "      <td>0.458730</td>\n",
       "      <td>0.460677</td>\n",
       "    </tr>\n",
       "    <tr>\n",
       "      <th>1</th>\n",
       "      <td>0.550919</td>\n",
       "      <td>0.349739</td>\n",
       "      <td>0.347656</td>\n",
       "      <td>0.437759</td>\n",
       "      <td>0.437259</td>\n",
       "      <td>0.352239</td>\n",
       "      <td>0.416073</td>\n",
       "      <td>0.427781</td>\n",
       "      <td>0.415256</td>\n",
       "      <td>0.405586</td>\n",
       "    </tr>\n",
       "    <tr>\n",
       "      <th>2</th>\n",
       "      <td>0.409293</td>\n",
       "      <td>0.344031</td>\n",
       "      <td>0.105469</td>\n",
       "      <td>0.437753</td>\n",
       "      <td>0.437275</td>\n",
       "      <td>0.507368</td>\n",
       "      <td>0.356533</td>\n",
       "      <td>0.371524</td>\n",
       "      <td>0.304394</td>\n",
       "      <td>0.375216</td>\n",
       "    </tr>\n",
       "    <tr>\n",
       "      <th>3</th>\n",
       "      <td>0.333290</td>\n",
       "      <td>0.490481</td>\n",
       "      <td>0.484375</td>\n",
       "      <td>0.438984</td>\n",
       "      <td>0.438775</td>\n",
       "      <td>0.630851</td>\n",
       "      <td>0.480841</td>\n",
       "      <td>0.479806</td>\n",
       "      <td>0.472900</td>\n",
       "      <td>0.485412</td>\n",
       "    </tr>\n",
       "    <tr>\n",
       "      <th>4</th>\n",
       "      <td>0.360944</td>\n",
       "      <td>0.401520</td>\n",
       "      <td>0.207031</td>\n",
       "      <td>0.439047</td>\n",
       "      <td>0.438909</td>\n",
       "      <td>0.419126</td>\n",
       "      <td>0.390861</td>\n",
       "      <td>0.383222</td>\n",
       "      <td>0.440056</td>\n",
       "      <td>0.451324</td>\n",
       "    </tr>\n",
       "    <tr>\n",
       "      <th>5</th>\n",
       "      <td>0.360415</td>\n",
       "      <td>0.586687</td>\n",
       "      <td>0.554688</td>\n",
       "      <td>0.440331</td>\n",
       "      <td>0.440684</td>\n",
       "      <td>0.725413</td>\n",
       "      <td>0.507374</td>\n",
       "      <td>0.528982</td>\n",
       "      <td>0.621894</td>\n",
       "      <td>0.599931</td>\n",
       "    </tr>\n",
       "    <tr>\n",
       "      <th>6</th>\n",
       "      <td>0.331707</td>\n",
       "      <td>0.437552</td>\n",
       "      <td>0.425781</td>\n",
       "      <td>0.439377</td>\n",
       "      <td>0.439402</td>\n",
       "      <td>0.299354</td>\n",
       "      <td>0.439017</td>\n",
       "      <td>0.447888</td>\n",
       "      <td>0.491369</td>\n",
       "      <td>0.453851</td>\n",
       "    </tr>\n",
       "    <tr>\n",
       "      <th>7</th>\n",
       "      <td>0.518494</td>\n",
       "      <td>0.465632</td>\n",
       "      <td>0.332031</td>\n",
       "      <td>0.437424</td>\n",
       "      <td>0.436744</td>\n",
       "      <td>0.178734</td>\n",
       "      <td>0.401759</td>\n",
       "      <td>0.399265</td>\n",
       "      <td>0.470081</td>\n",
       "      <td>0.451324</td>\n",
       "    </tr>\n",
       "    <tr>\n",
       "      <th>8</th>\n",
       "      <td>0.582515</td>\n",
       "      <td>0.532350</td>\n",
       "      <td>0.613281</td>\n",
       "      <td>0.438765</td>\n",
       "      <td>0.438705</td>\n",
       "      <td>0.434885</td>\n",
       "      <td>0.484327</td>\n",
       "      <td>0.505907</td>\n",
       "      <td>0.518641</td>\n",
       "      <td>0.453775</td>\n",
       "    </tr>\n",
       "    <tr>\n",
       "      <th>9</th>\n",
       "      <td>0.360495</td>\n",
       "      <td>0.502297</td>\n",
       "      <td>0.339844</td>\n",
       "      <td>0.438682</td>\n",
       "      <td>0.438515</td>\n",
       "      <td>0.388731</td>\n",
       "      <td>0.466795</td>\n",
       "      <td>0.447078</td>\n",
       "      <td>0.469728</td>\n",
       "      <td>0.465258</td>\n",
       "    </tr>\n",
       "    <tr>\n",
       "      <th>10</th>\n",
       "      <td>0.375607</td>\n",
       "      <td>0.469357</td>\n",
       "      <td>0.550781</td>\n",
       "      <td>0.439626</td>\n",
       "      <td>0.439622</td>\n",
       "      <td>0.332758</td>\n",
       "      <td>0.503178</td>\n",
       "      <td>0.505055</td>\n",
       "      <td>0.442161</td>\n",
       "      <td>0.473606</td>\n",
       "    </tr>\n",
       "    <tr>\n",
       "      <th>11</th>\n",
       "      <td>0.440804</td>\n",
       "      <td>0.494152</td>\n",
       "      <td>0.710938</td>\n",
       "      <td>0.438978</td>\n",
       "      <td>0.438883</td>\n",
       "      <td>0.365742</td>\n",
       "      <td>0.446012</td>\n",
       "      <td>0.455739</td>\n",
       "      <td>0.471037</td>\n",
       "      <td>0.453775</td>\n",
       "    </tr>\n",
       "    <tr>\n",
       "      <th>12</th>\n",
       "      <td>0.398505</td>\n",
       "      <td>0.484525</td>\n",
       "      <td>0.312500</td>\n",
       "      <td>0.439251</td>\n",
       "      <td>0.439141</td>\n",
       "      <td>0.311959</td>\n",
       "      <td>0.451278</td>\n",
       "      <td>0.492209</td>\n",
       "      <td>0.457926</td>\n",
       "      <td>0.473606</td>\n",
       "    </tr>\n",
       "    <tr>\n",
       "      <th>13</th>\n",
       "      <td>0.182289</td>\n",
       "      <td>0.326684</td>\n",
       "      <td>0.320312</td>\n",
       "      <td>0.438224</td>\n",
       "      <td>0.438091</td>\n",
       "      <td>0.509550</td>\n",
       "      <td>0.420385</td>\n",
       "      <td>0.385472</td>\n",
       "      <td>0.307076</td>\n",
       "      <td>0.365623</td>\n",
       "    </tr>\n",
       "  </tbody>\n",
       "</table>\n",
       "</div>"
      ],
      "text/plain": [
       "    activity retained  NN_retained  LR_retained  RR_retained  KR_retained  \\\n",
       "0            0.371118     0.467243     0.429688     0.438591     0.438201   \n",
       "1            0.550919     0.349739     0.347656     0.437759     0.437259   \n",
       "2            0.409293     0.344031     0.105469     0.437753     0.437275   \n",
       "3            0.333290     0.490481     0.484375     0.438984     0.438775   \n",
       "4            0.360944     0.401520     0.207031     0.439047     0.438909   \n",
       "5            0.360415     0.586687     0.554688     0.440331     0.440684   \n",
       "6            0.331707     0.437552     0.425781     0.439377     0.439402   \n",
       "7            0.518494     0.465632     0.332031     0.437424     0.436744   \n",
       "8            0.582515     0.532350     0.613281     0.438765     0.438705   \n",
       "9            0.360495     0.502297     0.339844     0.438682     0.438515   \n",
       "10           0.375607     0.469357     0.550781     0.439626     0.439622   \n",
       "11           0.440804     0.494152     0.710938     0.438978     0.438883   \n",
       "12           0.398505     0.484525     0.312500     0.439251     0.439141   \n",
       "13           0.182289     0.326684     0.320312     0.438224     0.438091   \n",
       "\n",
       "    DTree_retained  RForest_retained  ExtraTrees_retained  \\\n",
       "0         0.388736          0.456574             0.466182   \n",
       "1         0.352239          0.416073             0.427781   \n",
       "2         0.507368          0.356533             0.371524   \n",
       "3         0.630851          0.480841             0.479806   \n",
       "4         0.419126          0.390861             0.383222   \n",
       "5         0.725413          0.507374             0.528982   \n",
       "6         0.299354          0.439017             0.447888   \n",
       "7         0.178734          0.401759             0.399265   \n",
       "8         0.434885          0.484327             0.505907   \n",
       "9         0.388731          0.466795             0.447078   \n",
       "10        0.332758          0.503178             0.505055   \n",
       "11        0.365742          0.446012             0.455739   \n",
       "12        0.311959          0.451278             0.492209   \n",
       "13        0.509550          0.420385             0.385472   \n",
       "\n",
       "    GradientBoost_retained  AdaBoost_retained  \n",
       "0                 0.458730           0.460677  \n",
       "1                 0.415256           0.405586  \n",
       "2                 0.304394           0.375216  \n",
       "3                 0.472900           0.485412  \n",
       "4                 0.440056           0.451324  \n",
       "5                 0.621894           0.599931  \n",
       "6                 0.491369           0.453851  \n",
       "7                 0.470081           0.451324  \n",
       "8                 0.518641           0.453775  \n",
       "9                 0.469728           0.465258  \n",
       "10                0.442161           0.473606  \n",
       "11                0.471037           0.453775  \n",
       "12                0.457926           0.473606  \n",
       "13                0.307076           0.365623  "
      ]
     },
     "execution_count": 228,
     "metadata": {},
     "output_type": "execute_result"
    }
   ],
   "source": [
    "df_err = df_err.rename(columns={\"NN activity retained\": \"NN_retained\"})\n",
    "df_pred_all = pd.concat([df_err, df_pred], axis=1)\n",
    "df_pred_all"
   ]
  },
  {
   "cell_type": "code",
   "execution_count": 235,
   "id": "3e77c9b9-c9cf-4c9c-9ec7-735615975036",
   "metadata": {},
   "outputs": [
    {
     "data": {
      "text/plain": [
       "[['NN',\n",
       "  0.10819935655396694,\n",
       "  0.014859491140527318,\n",
       "  0.0945054945054945,\n",
       "  0.21291038624988132],\n",
       " ['LR',\n",
       "  0.14758688136748987,\n",
       "  0.028314946375645265,\n",
       "  0.12087912087912088,\n",
       "  0.19726824267151163],\n",
       " ['RR',\n",
       "  0.08900064167563393,\n",
       "  0.011288052075017322,\n",
       "  -0.4021978021978022,\n",
       "  -0.32161718636265235],\n",
       " ['KR',\n",
       "  0.0890066000412572,\n",
       "  0.011291955167670842,\n",
       "  -0.3802197802197802,\n",
       "  -0.3396410168322777],\n",
       " ['DTree',\n",
       "  0.15105785523600743,\n",
       "  0.03826349319201362,\n",
       "  -0.3494505494505495,\n",
       "  -0.38076714688273994],\n",
       " ['RForest',\n",
       "  0.10354771509988156,\n",
       "  0.01388511498656192,\n",
       "  -0.16483516483516483,\n",
       "  -0.04687101524958938],\n",
       " ['ExtraTrees',\n",
       "  0.10237145103687935,\n",
       "  0.013151906071711308,\n",
       "  0.03736263736263736,\n",
       "  0.15360395289207057],\n",
       " ['GradientBoost',\n",
       "  0.10503928732357617,\n",
       "  0.01424986194824085,\n",
       "  -0.07252747252747253,\n",
       "  0.2757915543719173],\n",
       " ['AdaBoost',\n",
       "  0.1102291650093602,\n",
       "  0.015356058896462448,\n",
       "  -0.28445580077846633,\n",
       "  0.026783431847625848]]"
      ]
     },
     "execution_count": 235,
     "metadata": {},
     "output_type": "execute_result"
    }
   ],
   "source": [
    "method_list = [\"NN\", \"LR\", \"RR\", \"KR\", \n",
    "               \"DTree\",\"RForest\", \"ExtraTrees\", \n",
    "               \"GradientBoost\", \"AdaBoost\"\n",
    "              ]\n",
    "# df_err_all = pd.DataFrame()\n",
    "results = []\n",
    "for name in method_list:\n",
    "    #for col, pred_col in zip([\"pH opt\",], [f\"{name}_retained\", f\"{name}_phr\"]):\n",
    "    y_pred = df_pred_all[name+\"_retained\"]\n",
    "    y_true = df_pred_all[\"activity retained\"]\n",
    "    r2, _ = pearsonr(y_pred, y_true)  # pearsonr\n",
    "    rho, _ = spearmanr(y_pred, y_true)  # spearman\n",
    "    mse = mean_squared_error(y_pred, y_true)  # Mean Squared Error\n",
    "    mae = np.mean(np.abs(y_pred - y_true))# Mean Absolute Error\n",
    "    results += [[name,  mae, mse, rho, r2]]\n",
    "results"
   ]
  },
  {
   "cell_type": "code",
   "execution_count": 238,
   "id": "add7bd21-ab2d-4bbc-8356-7849e1b8c91b",
   "metadata": {},
   "outputs": [
    {
     "data": {
      "text/html": [
       "<div>\n",
       "<style scoped>\n",
       "    .dataframe tbody tr th:only-of-type {\n",
       "        vertical-align: middle;\n",
       "    }\n",
       "\n",
       "    .dataframe tbody tr th {\n",
       "        vertical-align: top;\n",
       "    }\n",
       "\n",
       "    .dataframe thead th {\n",
       "        text-align: right;\n",
       "    }\n",
       "</style>\n",
       "<table border=\"1\" class=\"dataframe\">\n",
       "  <thead>\n",
       "    <tr style=\"text-align: right;\">\n",
       "      <th></th>\n",
       "      <th>method</th>\n",
       "      <th>MAE</th>\n",
       "      <th>MSE</th>\n",
       "      <th>rho</th>\n",
       "      <th>R2</th>\n",
       "    </tr>\n",
       "  </thead>\n",
       "  <tbody>\n",
       "    <tr>\n",
       "      <th>0</th>\n",
       "      <td>NN</td>\n",
       "      <td>0.108199</td>\n",
       "      <td>0.014859</td>\n",
       "      <td>0.094505</td>\n",
       "      <td>0.212910</td>\n",
       "    </tr>\n",
       "    <tr>\n",
       "      <th>1</th>\n",
       "      <td>LR</td>\n",
       "      <td>0.147587</td>\n",
       "      <td>0.028315</td>\n",
       "      <td>0.120879</td>\n",
       "      <td>0.197268</td>\n",
       "    </tr>\n",
       "    <tr>\n",
       "      <th>2</th>\n",
       "      <td>RR</td>\n",
       "      <td>0.089001</td>\n",
       "      <td>0.011288</td>\n",
       "      <td>-0.402198</td>\n",
       "      <td>-0.321617</td>\n",
       "    </tr>\n",
       "    <tr>\n",
       "      <th>3</th>\n",
       "      <td>KR</td>\n",
       "      <td>0.089007</td>\n",
       "      <td>0.011292</td>\n",
       "      <td>-0.380220</td>\n",
       "      <td>-0.339641</td>\n",
       "    </tr>\n",
       "    <tr>\n",
       "      <th>4</th>\n",
       "      <td>DTree</td>\n",
       "      <td>0.151058</td>\n",
       "      <td>0.038263</td>\n",
       "      <td>-0.349451</td>\n",
       "      <td>-0.380767</td>\n",
       "    </tr>\n",
       "    <tr>\n",
       "      <th>5</th>\n",
       "      <td>RForest</td>\n",
       "      <td>0.103548</td>\n",
       "      <td>0.013885</td>\n",
       "      <td>-0.164835</td>\n",
       "      <td>-0.046871</td>\n",
       "    </tr>\n",
       "    <tr>\n",
       "      <th>6</th>\n",
       "      <td>ExtraTrees</td>\n",
       "      <td>0.102371</td>\n",
       "      <td>0.013152</td>\n",
       "      <td>0.037363</td>\n",
       "      <td>0.153604</td>\n",
       "    </tr>\n",
       "    <tr>\n",
       "      <th>7</th>\n",
       "      <td>GradientBoost</td>\n",
       "      <td>0.105039</td>\n",
       "      <td>0.014250</td>\n",
       "      <td>-0.072527</td>\n",
       "      <td>0.275792</td>\n",
       "    </tr>\n",
       "    <tr>\n",
       "      <th>8</th>\n",
       "      <td>AdaBoost</td>\n",
       "      <td>0.110229</td>\n",
       "      <td>0.015356</td>\n",
       "      <td>-0.284456</td>\n",
       "      <td>0.026783</td>\n",
       "    </tr>\n",
       "  </tbody>\n",
       "</table>\n",
       "</div>"
      ],
      "text/plain": [
       "          method       MAE       MSE       rho        R2\n",
       "0             NN  0.108199  0.014859  0.094505  0.212910\n",
       "1             LR  0.147587  0.028315  0.120879  0.197268\n",
       "2             RR  0.089001  0.011288 -0.402198 -0.321617\n",
       "3             KR  0.089007  0.011292 -0.380220 -0.339641\n",
       "4          DTree  0.151058  0.038263 -0.349451 -0.380767\n",
       "5        RForest  0.103548  0.013885 -0.164835 -0.046871\n",
       "6     ExtraTrees  0.102371  0.013152  0.037363  0.153604\n",
       "7  GradientBoost  0.105039  0.014250 -0.072527  0.275792\n",
       "8       AdaBoost  0.110229  0.015356 -0.284456  0.026783"
      ]
     },
     "execution_count": 238,
     "metadata": {},
     "output_type": "execute_result"
    }
   ],
   "source": [
    "df_stats = pd.DataFrame(results, columns=[\"method\", \"MAE\", \"MSE\", \"rho\", \"R2\"])\n",
    "df_stats"
   ]
  },
  {
   "cell_type": "code",
   "execution_count": 241,
   "id": "aaf556c0-c045-4a5a-aa58-e84d29a0a883",
   "metadata": {},
   "outputs": [
    {
     "data": {
      "text/plain": [
       "<Axes: xlabel='R2', ylabel='method'>"
      ]
     },
     "execution_count": 241,
     "metadata": {},
     "output_type": "execute_result"
    },
    {
     "data": {
      "image/png": "[encoded data removed]",
      "text/plain": [
       "<Figure size 640x480 with 1 Axes>"
      ]
     },
     "metadata": {},
     "output_type": "display_data"
    }
   ],
   "source": [
    "sns.barplot(data=df_stats, y=\"method\", x=\"R2\")"
   ]
  },
  {
   "cell_type": "code",
   "execution_count": 252,
   "id": "29ec6f00-3fe8-4b58-81cd-c7d1112e386d",
   "metadata": {},
   "outputs": [
    {
     "data": {
      "image/png": "[encoded data removed]",
      "text/plain": [
       "<Figure size 1200x1200 with 9 Axes>"
      ]
     },
     "metadata": {},
     "output_type": "display_data"
    }
   ],
   "source": [
    "num_cols = len(df_pred_all.columns) - 1  # Exclude the first column for x-axis\n",
    "fig, axes = plt.subplots(3, 3, figsize=(12, 12))\n",
    "axes = axes.flatten()\n",
    "# Plot each column against the first column\n",
    "for i, column in enumerate(df_pred_all.columns[1:]):  # Skip the first column\n",
    "    axes[i].scatter(df_pred_all['activity retained'], df_pred_all[column], marker='o', linestyle='-')\n",
    "    axes[i].plot([min(df_pred_all['activity retained']), max(df_pred_all['activity retained'])], [min(df_pred_all[column]), max(df_pred_all[column])], color='red', linestyle='--')\n",
    "    axes[i].set_title(column)\n",
    "    axes[i].set_xlabel('True retained')\n",
    "    axes[i].set_ylabel(column)\n",
    "    axes[i].grid(True)\n",
    "\n",
    "# Adjust layout\n",
    "plt.tight_layout()\n",
    "plt.show()"
   ]
  },
  {
   "cell_type": "code",
   "execution_count": null,
   "id": "eb76a442-6f47-487e-b124-aa9e10e2f6dd",
   "metadata": {},
   "outputs": [],
   "source": []
  },
  {
   "cell_type": "code",
   "execution_count": null,
   "id": "6990e9b5-df2b-4ba3-b894-4d7c2631f32d",
   "metadata": {},
   "outputs": [],
   "source": []
  },
  {
   "cell_type": "code",
   "execution_count": null,
   "id": "c3751f0a-16da-429f-8b4c-68d09f712362",
   "metadata": {},
   "outputs": [],
   "source": []
  },
  {
   "cell_type": "code",
   "execution_count": null,
   "id": "81b5a135-dff9-4184-8be6-c06b89fc1f37",
   "metadata": {},
   "outputs": [],
   "source": []
  },
  {
   "cell_type": "code",
   "execution_count": null,
   "id": "bd287a76-14ba-4021-ad4e-b1ab6eac74da",
   "metadata": {},
   "outputs": [],
   "source": []
  },
  {
   "cell_type": "code",
   "execution_count": null,
   "id": "1bf27501-c04f-48f2-82d8-5c4d661794f8",
   "metadata": {},
   "outputs": [],
   "source": []
  },
  {
   "cell_type": "code",
   "execution_count": null,
   "id": "efccf4d7-f8d5-4c2d-a556-133242dceb8f",
   "metadata": {},
   "outputs": [],
   "source": []
  },
  {
   "cell_type": "code",
   "execution_count": null,
   "id": "dfac29da-57d2-4931-8006-2f3aacc33337",
   "metadata": {},
   "outputs": [],
   "source": []
  },
  {
   "cell_type": "code",
   "execution_count": null,
   "id": "ca433793-60fa-4d00-9dba-483d896db776",
   "metadata": {},
   "outputs": [],
   "source": []
  },
  {
   "cell_type": "code",
   "execution_count": null,
   "id": "b4761d6c-146a-497f-97ed-a29cefbd95f6",
   "metadata": {},
   "outputs": [],
   "source": []
  },
  {
   "cell_type": "code",
   "execution_count": null,
   "id": "eb415c41-bdd2-46ef-86e8-5ec232711de1",
   "metadata": {},
   "outputs": [],
   "source": []
  },
  {
   "cell_type": "code",
   "execution_count": null,
   "id": "edbbf7ef-bbd9-47f5-8a80-f05d16705186",
   "metadata": {},
   "outputs": [],
   "source": []
  },
  {
   "cell_type": "code",
   "execution_count": null,
   "id": "dc780b2c-45df-431f-8027-a0eb4500e34e",
   "metadata": {},
   "outputs": [],
   "source": []
  },
  {
   "cell_type": "code",
   "execution_count": null,
   "id": "b6122548-d006-4eb4-8563-60223077816f",
   "metadata": {},
   "outputs": [],
   "source": []
  },
  {
   "cell_type": "code",
   "execution_count": null,
   "id": "3bad0b68-be14-452f-a6d2-be959f9050d1",
   "metadata": {},
   "outputs": [],
   "source": []
  },
  {
   "cell_type": "code",
   "execution_count": null,
   "id": "cacda35a-1a91-4a54-9d7b-a251187cb16f",
   "metadata": {},
   "outputs": [],
   "source": []
  },
  {
   "cell_type": "code",
   "execution_count": null,
   "id": "da37e0b4-26cd-49a4-95a4-64d1c43e6900",
   "metadata": {},
   "outputs": [],
   "source": []
  },
  {
   "cell_type": "code",
   "execution_count": null,
   "id": "c6cc0d80-a458-4bd0-9576-93a94f9ebd3a",
   "metadata": {},
   "outputs": [],
   "source": []
  },
  {
   "cell_type": "code",
   "execution_count": null,
   "id": "e16852e2-2500-43a3-9044-50a50a01144c",
   "metadata": {},
   "outputs": [],
   "source": []
  },
  {
   "cell_type": "markdown",
   "id": "89887ba8-a3f7-4967-9648-58b97fc14b61",
   "metadata": {},
   "source": [
    "## Previous results"
   ]
  },
  {
   "cell_type": "code",
   "execution_count": null,
   "id": "160b847f-d113-4e68-9769-05107f483bec",
   "metadata": {},
   "outputs": [],
   "source": [
    "for epochs in [50]:\n",
    "    for lr in [1e-3, 1e-4]:\n",
    "    # for lr in [1e-4]:\n",
    "        # for batch_size in \n",
    "        head_model, trainer = fit_model(X_train, y_train, X_test, epochs=epochs, lr=lr)\n",
    "        eval_model(head_model, X_test, y_test, f\"test, {epochs}, {lr}, \")\n",
    "        eval_model(head_model, X_train, y_train, f\"train, {epochs}, {lr}, \")"
   ]
  },
  {
   "cell_type": "code",
   "execution_count": 48,
   "id": "e0adeb32-ca0b-4d39-a353-358a2b3bb849",
   "metadata": {},
   "outputs": [
    {
     "name": "stdout",
     "output_type": "stream",
     "text": [
      "split, epochs, lr, features, MAE, MSE, spearman rho, pearson r2\n",
      "test, 50, 0.0001, pH opt, 0.75, 1.06, 0.65, 0.70\n",
      "test, 50, 0.0001, pH std, 0.55, 0.62, 0.22, 0.20\n"
     ]
    }
   ],
   "source": [
    "y_pred_mean, y_pred_sigma, df_err = eval_model(head_model, X_test, y_test, f\"test, {epochs}, {lr}, \")"
   ]
  },
  {
   "cell_type": "code",
   "execution_count": 50,
   "id": "55b41035-7707-4cf0-9e0f-b7eccc02c4d3",
   "metadata": {},
   "outputs": [
    {
     "data": {
      "text/plain": [
       "[<matplotlib.lines.Line2D at 0x7f7deacc6710>]"
      ]
     },
     "execution_count": 50,
     "metadata": {},
     "output_type": "execute_result"
    },
    {
     "data": {
      "image/png": "[encoded data removed]",
      "text/plain": [
       "<Figure size 600x600 with 3 Axes>"
      ]
     },
     "metadata": {},
     "output_type": "display_data"
    }
   ],
   "source": [
    "g = sns.jointplot(df_err, x=\"pH opt\", y=\"ML pH opt\", \n",
    "              # alpha=0.3, s=5, linewidth=0, \n",
    "                  kind=\"hex\"\n",
    "             )\n",
    "g.ax_joint.plot([2,10], [2,10], ls='--', alpha=0.4, color=\"black\", linewidth=1)"
   ]
  },
  {
   "cell_type": "code",
   "execution_count": 52,
   "id": "6c938f46-2fdf-4c56-8bf9-3728d735c054",
   "metadata": {},
   "outputs": [
    {
     "data": {
      "text/plain": [
       "[<matplotlib.lines.Line2D at 0x7f7dea81b400>]"
      ]
     },
     "execution_count": 52,
     "metadata": {},
     "output_type": "execute_result"
    },
    {
     "data": {
      "image/png": "[encoded data removed]",
      "text/plain": [
       "<Figure size 600x600 with 3 Axes>"
      ]
     },
     "metadata": {},
     "output_type": "display_data"
    }
   ],
   "source": [
    "g = sns.jointplot(df_err, x=\"pH std\", y=\"ML pH std\", \n",
    "              # alpha=0.4, s=20, linewidth=0, \n",
    "                  kind=\"hex\",\n",
    "                  color=\"brown\",\n",
    "             )\n",
    "g.ax_joint.plot([0,3], [0,3], ls='--', alpha=0.4, color=\"black\", linewidth=1)"
   ]
  },
  {
   "cell_type": "markdown",
   "id": "102a1f6d-63bf-4ae7-9c20-adcd68522dce",
   "metadata": {},
   "source": [
    "TODO: investigate the outliers. May be a data quality issue"
   ]
  },
  {
   "cell_type": "code",
   "execution_count": 53,
   "id": "99aa0042-6bfe-4711-94b6-0f4b930f2480",
   "metadata": {},
   "outputs": [
    {
     "data": {
      "text/plain": [
       "Text(0.5, 1.0, 'pH ')"
      ]
     },
     "execution_count": 53,
     "metadata": {},
     "output_type": "execute_result"
    },
    {
     "data": {
      "image/png": "[encoded data removed]",
      "text/plain": [
       "<Figure size 600x300 with 2 Axes>"
      ]
     },
     "metadata": {},
     "output_type": "display_data"
    }
   ],
   "source": [
    "f, (ax, ax2) = plt.subplots(ncols=2, figsize=(6,3))\n",
    "ax.hist(y_pred_mean)\n",
    "ax2.hist(y_pred_sigma)\n",
    "ax.set_title(\"pH opt\")\n",
    "ax.set_title(\"pH \")"
   ]
  },
  {
   "cell_type": "markdown",
   "id": "6ea3ee62-483c-4582-85d4-c5f26e954dc4",
   "metadata": {},
   "source": [
    "Use the ph_range test set to see if the extra ph_opt data is helping"
   ]
  },
  {
   "cell_type": "markdown",
   "id": "ec1f4cc7-36d6-4709-a16b-cba4fe9a1035",
   "metadata": {},
   "source": [
    "### Show plots for individual prots\n",
    "Check ph range predictions for some individual proteins. \n",
    "\n",
    "2024-03-12: need to load the original data points to compare with the curve fits and predicted curve fits"
   ]
  },
  {
   "cell_type": "code",
   "execution_count": 67,
   "id": "ae43f85b-79a3-4179-8654-b6f467e975ef",
   "metadata": {},
   "outputs": [],
   "source": [
    "df_test = df_test.reset_index(drop=True)\n",
    "df_train = df_train.reset_index(drop=True)"
   ]
  },
  {
   "cell_type": "code",
   "execution_count": 69,
   "id": "8c7ca056-847d-4675-8034-a01570cd2898",
   "metadata": {},
   "outputs": [],
   "source": [
    "# define the gaussian function\n",
    "def gaus(x,c,x_mean,sigma):\n",
    "    return c*np.exp(-(x-x_mean)**2/(2*sigma**2))"
   ]
  },
  {
   "cell_type": "code",
   "execution_count": 62,
   "id": "8f23e833-c7aa-4167-9a69-b35ea006760d",
   "metadata": {},
   "outputs": [],
   "source": [
    "def get_ez_type(row):\n",
    "    if row.oxidation == 1:\n",
    "        return 'oxidation'\n",
    "    elif row.reduction == 1:\n",
    "        return 'reduction'"
   ]
  },
  {
   "cell_type": "code",
   "execution_count": 71,
   "id": "725294ea-ca30-4770-9565-0ba7cbf1d448",
   "metadata": {},
   "outputs": [
    {
     "data": {
      "image/png": "[encoded data removed]",
      "text/plain": [
       "<Figure size 400x300 with 6 Axes>"
      ]
     },
     "metadata": {},
     "output_type": "display_data"
    }
   ],
   "source": [
    "def plot_indv_prot_curves(df_test, y_pred_mean, y_pred_sigma, nrows=8, ncols=4):\n",
    "    # get the predicted activity over all ph values\n",
    "    all_ph_vals = np.arange(1, 13.5, 0.1)\n",
    "\n",
    "    f, axes = plt.subplots(ncols=ncols, nrows=nrows, \n",
    "                           figsize=(nrows*2,ncols), \n",
    "                           sharey=True, sharex=False)\n",
    "    axes_list = [ax for ax_row in axes for ax in ax_row]\n",
    "    # cols = [\"uniprot_id\", \"enzyme_type\", \"enzyme_type_sub\", \"acceptor\"]\n",
    "    i = -1\n",
    "    df_redox = df_test[(df_test.oxidation == 1) |\n",
    "                       (df_test.reduction == 1)]\n",
    "    for (uniprot_id, df_u) in df_redox.groupby(\"uniprot_id\"):\n",
    "        df_u['enzyme_type'] = df_u.apply(get_ez_type, axis=1)\n",
    "        df_u = df_u[df_u.enzyme_type.isin([\"oxidation\", \"reduction\"])]\n",
    "        if len(df_u) <= 1:\n",
    "            continue\n",
    "        e_types = df_u.enzyme_type.unique()\n",
    "        if 'oxidation' not in e_types or 'reduction' not in e_types:\n",
    "            continue\n",
    "        i += 1\n",
    "        df_pred_act_u = []\n",
    "        for (e_type, df_cat) in df_u.groupby('enzyme_type'):\n",
    "            pred_mean_u = y_pred_mean[df_cat.index[0]].detach().numpy()\n",
    "            pred_sigma_u = y_pred_sigma[df_cat.index[0]].detach().numpy()\n",
    "            # print(uniprot_id, e_type, pred_mean_u, pred_sigma_u)\n",
    "            pred_act = gaus(all_ph_vals, 1, pred_mean_u, pred_sigma_u)\n",
    "            # limit the predicted activity to min_ph -1 and max_ph +1\n",
    "            df_pred_act_u_cat = pd.DataFrame({'ph': all_ph_vals, 'activity': pred_act})\n",
    "            df_pred_act_u_cat['enzyme_type'] = e_type\n",
    "            ph_min = min(df_u.ph.min() - 1, 5.5)\n",
    "            ph_max = max(df_u.ph.max() + 1, 8.5)\n",
    "            df_pred_act_u_cat = df_pred_act_u_cat[(df_pred_act_u_cat.ph >= ph_min) & \n",
    "                                                  (df_pred_act_u_cat.ph <= ph_max)]\n",
    "            df_pred_act_u += [df_pred_act_u_cat]\n",
    "            # print(e_type, df_pred_act_u_cat[['ph', 'activity']].max())\n",
    "        df_pred_act_u = pd.concat(df_pred_act_u)\n",
    "\n",
    "        if i >= len(axes_list):\n",
    "            break\n",
    "        ax = axes_list[i]\n",
    "        ax.set_title(uniprot_id, fontsize=6)\n",
    "        sns.lineplot(x='ph', y='activity', data=df_pred_act_u, ax=ax,\n",
    "                     # palette='deep', \n",
    "                     hue='enzyme_type', hue_order=['reduction', 'oxidation'],\n",
    "                     size=1, \n",
    "                     legend=None)\n",
    "        sns.scatterplot(x='ph', y='activity', data=df_u, ax=ax,\n",
    "                        hue='enzyme_type', hue_order=['reduction', 'oxidation'],\n",
    "                        palette='deep',\n",
    "                        alpha=0.8,\n",
    "                        legend=None\n",
    "                       )\n",
    "        ax.set_ylabel(\"\")\n",
    "        ax.set_xlabel(\"\")\n",
    "        # hide ax labels\n",
    "        ax.xaxis.set_tick_params(labelbottom=False)\n",
    "        ax.yaxis.set_tick_params(labelleft=False)\n",
    "        # hide ax ticks\n",
    "        ax.set_xticks([])\n",
    "        ax.set_yticks([])\n",
    "\n",
    "        # add a vertical bar at ph=6--8\n",
    "        ax.axvspan(6, 8, alpha=0.1, color='purple')\n",
    "        # ax.set_xlabel\n",
    "        # L = ax.legend(loc=\"upper left\", bbox_to_anchor=(1.0, 1.0))\n",
    "\n",
    "    plt.show()\n",
    "    plt.close()\n",
    "    \n",
    "plot_indv_prot_curves(df_test, y_pred_mean, y_pred_sigma,\n",
    "                      nrows=2, ncols=3)"
   ]
  },
  {
   "cell_type": "code",
   "execution_count": 121,
   "id": "fec00718-579f-4572-ac30-74c2e96eea89",
   "metadata": {},
   "outputs": [],
   "source": [
    "out_dir = Path(\"results/20231026_ph_opt_and_range\")"
   ]
  },
  {
   "cell_type": "code",
   "execution_count": 122,
   "id": "f67676b7-e3d5-44e0-9c32-75372702afe4",
   "metadata": {},
   "outputs": [
    {
     "name": "stdout",
     "output_type": "stream",
     "text": [
      "results/20231026_ph_opt_and_range/20231011_ph_range_esm2_t33_650M_UR50D.pt\n"
     ]
    }
   ],
   "source": [
    "# if __name__ == \"__main__\":\n",
    "out_file = out_dir / f\"20231011_ph_range_{model_name}.pt\"\n",
    "print(out_file)\n",
    "torch.save(head_model, out_file)"
   ]
  },
  {
   "cell_type": "markdown",
   "id": "e9b28a5b-e823-4b68-9a70-c9d422af5d06",
   "metadata": {},
   "source": [
    "## Evaluate E. coli\n",
    "Leave out all the E. coli proteins as the test set.\n",
    "\n",
    "2024-03-12: need to re-run this analysis"
   ]
  },
  {
   "cell_type": "code",
   "execution_count": 74,
   "id": "14df7a9e-206f-433e-97e4-4c5c1871cadd",
   "metadata": {},
   "outputs": [
    {
     "name": "stdout",
     "output_type": "stream",
     "text": [
      "12926\n",
      "12896\n"
     ]
    },
    {
     "data": {
      "text/html": [
       "<div>\n",
       "<style scoped>\n",
       "    .dataframe tbody tr th:only-of-type {\n",
       "        vertical-align: middle;\n",
       "    }\n",
       "\n",
       "    .dataframe tbody tr th {\n",
       "        vertical-align: top;\n",
       "    }\n",
       "\n",
       "    .dataframe thead th {\n",
       "        text-align: right;\n",
       "    }\n",
       "</style>\n",
       "<table border=\"1\" class=\"dataframe\">\n",
       "  <thead>\n",
       "    <tr style=\"text-align: right;\">\n",
       "      <th></th>\n",
       "      <th>uniprot_id</th>\n",
       "      <th>Entry</th>\n",
       "      <th>Reviewed</th>\n",
       "      <th>Protein names</th>\n",
       "      <th>Gene Names</th>\n",
       "      <th>Organism</th>\n",
       "      <th>Organism (ID)</th>\n",
       "      <th>Length</th>\n",
       "      <th>pH dependence</th>\n",
       "      <th>Kinetics</th>\n",
       "      <th>...</th>\n",
       "      <th>Temperature dependence</th>\n",
       "      <th>EC number</th>\n",
       "      <th>Catalytic activity</th>\n",
       "      <th>Cofactor</th>\n",
       "      <th>Activity regulation</th>\n",
       "      <th>Binding site</th>\n",
       "      <th>Active site</th>\n",
       "      <th>Site</th>\n",
       "      <th>Pathway</th>\n",
       "      <th>Absorption</th>\n",
       "    </tr>\n",
       "  </thead>\n",
       "  <tbody>\n",
       "    <tr>\n",
       "      <th>0</th>\n",
       "      <td>A0A023I760</td>\n",
       "      <td>A0A023I760</td>\n",
       "      <td>unreviewed</td>\n",
       "      <td>Sigma class glutathione S-transferase</td>\n",
       "      <td>NaN</td>\n",
       "      <td>Hyriopsis cumingii (Triangle sail mussel) (Uni...</td>\n",
       "      <td>165450.0</td>\n",
       "      <td>203.0</td>\n",
       "      <td>NaN</td>\n",
       "      <td>NaN</td>\n",
       "      <td>...</td>\n",
       "      <td>NaN</td>\n",
       "      <td>NaN</td>\n",
       "      <td>NaN</td>\n",
       "      <td>NaN</td>\n",
       "      <td>NaN</td>\n",
       "      <td>NaN</td>\n",
       "      <td>NaN</td>\n",
       "      <td>NaN</td>\n",
       "      <td>NaN</td>\n",
       "      <td>NaN</td>\n",
       "    </tr>\n",
       "    <tr>\n",
       "      <th>1</th>\n",
       "      <td>A0A023I7E1</td>\n",
       "      <td>A0A023I7E1</td>\n",
       "      <td>reviewed</td>\n",
       "      <td>Glucan endo-1,3-beta-D-glucosidase 1 (Endo-1,3...</td>\n",
       "      <td>ENG1 LAM81A</td>\n",
       "      <td>Rhizomucor miehei</td>\n",
       "      <td>4839.0</td>\n",
       "      <td>796.0</td>\n",
       "      <td>BIOPHYSICOCHEMICAL PROPERTIES:  pH dependence:...</td>\n",
       "      <td>NaN</td>\n",
       "      <td>...</td>\n",
       "      <td>BIOPHYSICOCHEMICAL PROPERTIES:  Temperature de...</td>\n",
       "      <td>3.2.1.39</td>\n",
       "      <td>CATALYTIC ACTIVITY: Reaction=Hydrolysis of (1-...</td>\n",
       "      <td>NaN</td>\n",
       "      <td>ACTIVITY REGULATION: Tris binds the active sit...</td>\n",
       "      <td>BINDING 504; /ligand=\"(1,3-beta-D-glucosyl)n\";...</td>\n",
       "      <td>ACT_SITE 500; /evidence=\"ECO:0000255|PROSITE-P...</td>\n",
       "      <td>NaN</td>\n",
       "      <td>NaN</td>\n",
       "      <td>NaN</td>\n",
       "    </tr>\n",
       "  </tbody>\n",
       "</table>\n",
       "<p>2 rows × 22 columns</p>\n",
       "</div>"
      ],
      "text/plain": [
       "   uniprot_id       Entry    Reviewed  \\\n",
       "0  A0A023I760  A0A023I760  unreviewed   \n",
       "1  A0A023I7E1  A0A023I7E1    reviewed   \n",
       "\n",
       "                                       Protein names   Gene Names  \\\n",
       "0              Sigma class glutathione S-transferase          NaN   \n",
       "1  Glucan endo-1,3-beta-D-glucosidase 1 (Endo-1,3...  ENG1 LAM81A   \n",
       "\n",
       "                                            Organism  Organism (ID)  Length  \\\n",
       "0  Hyriopsis cumingii (Triangle sail mussel) (Uni...       165450.0   203.0   \n",
       "1                                  Rhizomucor miehei         4839.0   796.0   \n",
       "\n",
       "                                       pH dependence Kinetics  ...  \\\n",
       "0                                                NaN      NaN  ...   \n",
       "1  BIOPHYSICOCHEMICAL PROPERTIES:  pH dependence:...      NaN  ...   \n",
       "\n",
       "                              Temperature dependence EC number  \\\n",
       "0                                                NaN       NaN   \n",
       "1  BIOPHYSICOCHEMICAL PROPERTIES:  Temperature de...  3.2.1.39   \n",
       "\n",
       "                                  Catalytic activity Cofactor  \\\n",
       "0                                                NaN      NaN   \n",
       "1  CATALYTIC ACTIVITY: Reaction=Hydrolysis of (1-...      NaN   \n",
       "\n",
       "                                 Activity regulation  \\\n",
       "0                                                NaN   \n",
       "1  ACTIVITY REGULATION: Tris binds the active sit...   \n",
       "\n",
       "                                        Binding site  \\\n",
       "0                                                NaN   \n",
       "1  BINDING 504; /ligand=\"(1,3-beta-D-glucosyl)n\";...   \n",
       "\n",
       "                                         Active site Site Pathway Absorption  \n",
       "0                                                NaN  NaN     NaN        NaN  \n",
       "1  ACT_SITE 500; /evidence=\"ECO:0000255|PROSITE-P...  NaN     NaN        NaN  \n",
       "\n",
       "[2 rows x 22 columns]"
      ]
     },
     "execution_count": 74,
     "metadata": {},
     "output_type": "execute_result"
    }
   ],
   "source": [
    "uniprot_seq_info_file = Path(\"inputs/ph_merged/idmapping_2023_10_19.tsv.gz\")\n",
    "seq_info = pd.read_table(uniprot_seq_info_file)\n",
    "seq_info = seq_info.rename(columns={\"From\": \"uniprot_id\"})\n",
    "print(len(seq_info))\n",
    "seq_info = seq_info.dropna(subset=\"Organism\")\n",
    "print(len(seq_info))\n",
    "seq_info.head(2)"
   ]
  },
  {
   "cell_type": "code",
   "execution_count": 71,
   "id": "5ce20c58-9bdb-4a1f-a9e4-5467aa7a871b",
   "metadata": {},
   "outputs": [
    {
     "data": {
      "text/plain": [
       "Homo sapiens (Human)                                                                      713\n",
       "Arabidopsis thaliana (Mouse-ear cress)                                                    514\n",
       "Escherichia coli (strain K12)                                                             472\n",
       "Rattus norvegicus (Rat)                                                                   385\n",
       "Saccharomyces cerevisiae (strain ATCC 204508 / S288c) (Baker's yeast)                     329\n",
       "                                                                                         ... \n",
       "Cryptomeria japonica (Japanese cedar) (Cupressus japonica)                                  1\n",
       "Vargula hilgendorfii (Sea firefly) (Cypridina hilgendorfii)                                 1\n",
       "Thermoanaerobacter thermohydrosulfuricus (Clostridium thermohydrosulfuricum)                1\n",
       "Leishmania chagasi                                                                          1\n",
       "Gaeumannomyces graminis (Turf grass take-all root rot fungus) (Rhaphidophora graminis)      1\n",
       "Name: Organism, Length: 3053, dtype: int64"
      ]
     },
     "execution_count": 71,
     "metadata": {},
     "output_type": "execute_result"
    }
   ],
   "source": [
    "seq_info.Organism.value_counts()"
   ]
  },
  {
   "cell_type": "code",
   "execution_count": 77,
   "id": "d5722922-780f-4a18-b69a-4be3ad35ebbe",
   "metadata": {},
   "outputs": [
    {
     "name": "stdout",
     "output_type": "stream",
     "text": [
      "545\n"
     ]
    }
   ],
   "source": [
    "ecoli_rows = seq_info[seq_info.Organism.apply(lambda x: \"Escherichia coli\" in x)]\n",
    "print(len(ecoli_rows))"
   ]
  },
  {
   "cell_type": "code",
   "execution_count": 91,
   "id": "4e1b5a3a-8138-4bb5-aefa-4243a98282a0",
   "metadata": {},
   "outputs": [
    {
     "data": {
      "text/plain": [
       "545"
      ]
     },
     "execution_count": 91,
     "metadata": {},
     "output_type": "execute_result"
    }
   ],
   "source": [
    "ecoli_prots = set(ecoli_rows.uniprot_id.values)\n",
    "len(ecoli_prots)"
   ]
  },
  {
   "cell_type": "code",
   "execution_count": 73,
   "id": "83b8678d-3873-4b38-beb8-f247bd132e86",
   "metadata": {},
   "outputs": [
    {
     "data": {
      "text/html": [
       "<div>\n",
       "<style scoped>\n",
       "    .dataframe tbody tr th:only-of-type {\n",
       "        vertical-align: middle;\n",
       "    }\n",
       "\n",
       "    .dataframe tbody tr th {\n",
       "        vertical-align: top;\n",
       "    }\n",
       "\n",
       "    .dataframe thead th {\n",
       "        text-align: right;\n",
       "    }\n",
       "</style>\n",
       "<table border=\"1\" class=\"dataframe\">\n",
       "  <thead>\n",
       "    <tr style=\"text-align: right;\">\n",
       "      <th></th>\n",
       "      <th>uniprot_id</th>\n",
       "      <th>reaction_type</th>\n",
       "      <th>fit_mean</th>\n",
       "      <th>fit_std</th>\n",
       "      <th>enzyme_type</th>\n",
       "      <th>enzyme_type_sub</th>\n",
       "      <th>acceptor</th>\n",
       "      <th>sequence</th>\n",
       "      <th>oxidation</th>\n",
       "      <th>reduction</th>\n",
       "      <th>split</th>\n",
       "    </tr>\n",
       "  </thead>\n",
       "  <tbody>\n",
       "    <tr>\n",
       "      <th>2</th>\n",
       "      <td>A0A023I760</td>\n",
       "      <td>NaN</td>\n",
       "      <td>8.0</td>\n",
       "      <td>NaN</td>\n",
       "      <td>Transferases</td>\n",
       "      <td>alkyl or aryl groups, other than methyl groups</td>\n",
       "      <td>NaN</td>\n",
       "      <td>MRTYRLTYSDIRGRAELARLVFVAAGESFEDRRVSREEWAELKKET...</td>\n",
       "      <td>0</td>\n",
       "      <td>0</td>\n",
       "      <td>train</td>\n",
       "    </tr>\n",
       "    <tr>\n",
       "      <th>3</th>\n",
       "      <td>A0A023I7E1</td>\n",
       "      <td>NaN</td>\n",
       "      <td>5.5</td>\n",
       "      <td>NaN</td>\n",
       "      <td>Hydrolases</td>\n",
       "      <td>Glycosylases</td>\n",
       "      <td>NaN</td>\n",
       "      <td>MRFQVIVAAATITMITSYIPGVASQSTSDGDDLFVPVSNFDPKSIF...</td>\n",
       "      <td>0</td>\n",
       "      <td>0</td>\n",
       "      <td>train</td>\n",
       "    </tr>\n",
       "  </tbody>\n",
       "</table>\n",
       "</div>"
      ],
      "text/plain": [
       "   uniprot_id reaction_type  fit_mean  fit_std   enzyme_type  \\\n",
       "2  A0A023I760           NaN       8.0      NaN  Transferases   \n",
       "3  A0A023I7E1           NaN       5.5      NaN    Hydrolases   \n",
       "\n",
       "                                  enzyme_type_sub acceptor  \\\n",
       "2  alkyl or aryl groups, other than methyl groups      NaN   \n",
       "3                                    Glycosylases      NaN   \n",
       "\n",
       "                                            sequence  oxidation  reduction  \\\n",
       "2  MRTYRLTYSDIRGRAELARLVFVAAGESFEDRRVSREEWAELKKET...          0          0   \n",
       "3  MRFQVIVAAATITMITSYIPGVASQSTSDGDDLFVPVSNFDPKSIF...          0          0   \n",
       "\n",
       "   split  \n",
       "2  train  \n",
       "3  train  "
      ]
     },
     "execution_count": 73,
     "metadata": {},
     "output_type": "execute_result"
    }
   ],
   "source": [
    "data_fits.head(2)"
   ]
  },
  {
   "cell_type": "code",
   "execution_count": 94,
   "id": "b9e415f3-af3c-43b5-a5f1-6fba8bfacabc",
   "metadata": {},
   "outputs": [
    {
     "data": {
      "text/plain": [
       "train    12506\n",
       "test       558\n",
       "Name: split, dtype: int64"
      ]
     },
     "execution_count": 94,
     "metadata": {},
     "output_type": "execute_result"
    }
   ],
   "source": [
    "def ecoli_holdout(u_id):\n",
    "    if u_id in ecoli_rows.uniprot_id:\n",
    "        return \"test\"\n",
    "    else:\n",
    "        return \"train\"\n",
    "data_fits[\"split\"] = \"train\"\n",
    "data_fits.loc[data_fits.uniprot_id.isin(ecoli_prots), \"split\"] = \"test\"\n",
    "data_fits.split.value_counts()"
   ]
  },
  {
   "cell_type": "code",
   "execution_count": 95,
   "id": "404e0318-3e92-4eec-bd4c-20150a998bd6",
   "metadata": {},
   "outputs": [
    {
     "data": {
      "text/html": [
       "<div>\n",
       "<style scoped>\n",
       "    .dataframe tbody tr th:only-of-type {\n",
       "        vertical-align: middle;\n",
       "    }\n",
       "\n",
       "    .dataframe tbody tr th {\n",
       "        vertical-align: top;\n",
       "    }\n",
       "\n",
       "    .dataframe thead th {\n",
       "        text-align: right;\n",
       "    }\n",
       "</style>\n",
       "<table border=\"1\" class=\"dataframe\">\n",
       "  <thead>\n",
       "    <tr style=\"text-align: right;\">\n",
       "      <th></th>\n",
       "      <th>uniprot_id</th>\n",
       "      <th>reaction_type</th>\n",
       "      <th>fit_mean</th>\n",
       "      <th>fit_std</th>\n",
       "      <th>enzyme_type</th>\n",
       "      <th>enzyme_type_sub</th>\n",
       "      <th>acceptor</th>\n",
       "      <th>sequence</th>\n",
       "      <th>oxidation</th>\n",
       "      <th>reduction</th>\n",
       "      <th>split</th>\n",
       "    </tr>\n",
       "  </thead>\n",
       "  <tbody>\n",
       "    <tr>\n",
       "      <th>2</th>\n",
       "      <td>A0A023I760</td>\n",
       "      <td>NaN</td>\n",
       "      <td>8.0</td>\n",
       "      <td>NaN</td>\n",
       "      <td>Transferases</td>\n",
       "      <td>alkyl or aryl groups, other than methyl groups</td>\n",
       "      <td>NaN</td>\n",
       "      <td>MRTYRLTYSDIRGRAELARLVFVAAGESFEDRRVSREEWAELKKET...</td>\n",
       "      <td>0</td>\n",
       "      <td>0</td>\n",
       "      <td>train</td>\n",
       "    </tr>\n",
       "    <tr>\n",
       "      <th>3</th>\n",
       "      <td>A0A023I7E1</td>\n",
       "      <td>NaN</td>\n",
       "      <td>5.5</td>\n",
       "      <td>NaN</td>\n",
       "      <td>Hydrolases</td>\n",
       "      <td>Glycosylases</td>\n",
       "      <td>NaN</td>\n",
       "      <td>MRFQVIVAAATITMITSYIPGVASQSTSDGDDLFVPVSNFDPKSIF...</td>\n",
       "      <td>0</td>\n",
       "      <td>0</td>\n",
       "      <td>train</td>\n",
       "    </tr>\n",
       "  </tbody>\n",
       "</table>\n",
       "</div>"
      ],
      "text/plain": [
       "   uniprot_id reaction_type  fit_mean  fit_std   enzyme_type  \\\n",
       "2  A0A023I760           NaN       8.0      NaN  Transferases   \n",
       "3  A0A023I7E1           NaN       5.5      NaN    Hydrolases   \n",
       "\n",
       "                                  enzyme_type_sub acceptor  \\\n",
       "2  alkyl or aryl groups, other than methyl groups      NaN   \n",
       "3                                    Glycosylases      NaN   \n",
       "\n",
       "                                            sequence  oxidation  reduction  \\\n",
       "2  MRTYRLTYSDIRGRAELARLVFVAAGESFEDRRVSREEWAELKKET...          0          0   \n",
       "3  MRFQVIVAAATITMITSYIPGVASQSTSDGDDLFVPVSNFDPKSIF...          0          0   \n",
       "\n",
       "   split  \n",
       "2  train  \n",
       "3  train  "
      ]
     },
     "execution_count": 95,
     "metadata": {},
     "output_type": "execute_result"
    }
   ],
   "source": [
    "df_train = data_fits[data_fits.split == \"train\"]\n",
    "df_test = data_fits[data_fits.split == \"test\"]\n",
    "df_train.head(2)"
   ]
  },
  {
   "cell_type": "code",
   "execution_count": 81,
   "id": "a17f8672-62fa-4db3-895e-f86f666fa375",
   "metadata": {},
   "outputs": [],
   "source": [
    "categ_cols = ['oxidation', 'reduction']"
   ]
  },
  {
   "cell_type": "code",
   "execution_count": 96,
   "id": "8a50e47a-b8d3-4684-842d-9b49a6f10695",
   "metadata": {},
   "outputs": [
    {
     "name": "stdout",
     "output_type": "stream",
     "text": [
      "(12506, 1280)\n",
      "(12506, 1282)\n",
      "12506 0.96\n",
      "558 0.04\n"
     ]
    }
   ],
   "source": [
    "# some of the sequences are repeated, so get their embeddings by index\n",
    "X_train = np.asarray([embeddings[seq_idx[seq]] for seq in df_train.sequence.values])\n",
    "print(X_train.shape)\n",
    "X_train = np.hstack([X_train, df_train[categ_cols].values])\n",
    "print(X_train.shape)\n",
    "y_train = df_train[['fit_mean', 'fit_std']].values\n",
    "\n",
    "X_test = np.asarray([embeddings[seq_idx[seq]] for seq in df_test.sequence.values])\n",
    "X_test = np.hstack([X_test, df_test[categ_cols].values])\n",
    "y_test = df_test[['fit_mean', 'fit_std']].values\n",
    "print(len(df_train), f\"{len(df_train) / (len(df_train) + len(df_test)):0.2f}\")\n",
    "print(len(df_test), f\"{len(df_test) / (len(df_train) + len(df_test)):0.2f}\")"
   ]
  },
  {
   "cell_type": "code",
   "execution_count": 97,
   "id": "cf5a4b4e-b27b-4b82-8f06-79ed1525b173",
   "metadata": {},
   "outputs": [
    {
     "name": "stderr",
     "output_type": "stream",
     "text": [
      "Global seed set to 42\n",
      "/home/jlaw/.conda/envs/tm/lib/python3.10/site-packages/lightning_fabric/plugins/environments/slurm.py:166: PossibleUserWarning: The `srun` command is available on your system but is not used. HINT: If your intention is to run Lightning on SLURM, prepend your python command with `srun` like so: srun python /home/jlaw/.conda/envs/tm/lib/python3.10/site-packag ...\n",
      "  rank_zero_warn(\n",
      "GPU available: True (cuda), used: True\n",
      "TPU available: False, using: 0 TPU cores\n",
      "IPU available: False, using: 0 IPUs\n",
      "HPU available: False, using: 0 HPUs\n",
      "LOCAL_RANK: 0 - CUDA_VISIBLE_DEVICES: [0]\n",
      "\n",
      "  | Name              | Type       | Params\n",
      "-------------------------------------------------\n",
      "0 | linear_relu_stack | Sequential | 920 K \n",
      "-------------------------------------------------\n",
      "920 K     Trainable params\n",
      "0         Non-trainable params\n",
      "920 K     Total params\n",
      "3.682     Total estimated model params size (MB)\n",
      "/home/jlaw/.conda/envs/tm/lib/python3.10/site-packages/pytorch_lightning/trainer/connectors/data_connector.py:224: PossibleUserWarning: The dataloader, train_dataloader, does not have many workers which may be a bottleneck. Consider increasing the value of the `num_workers` argument` (try 36 which is the number of cpus on this machine) in the `DataLoader` init to improve performance.\n",
      "  rank_zero_warn(\n"
     ]
    },
    {
     "data": {
      "application/vnd.jupyter.widget-view+json": {
       "model_id": "69a0531636e14608ab1380b8f957da86",
       "version_major": 2,
       "version_minor": 0
      },
      "text/plain": [
       "Training: 0it [00:00, ?it/s]"
      ]
     },
     "metadata": {},
     "output_type": "display_data"
    },
    {
     "name": "stderr",
     "output_type": "stream",
     "text": [
      "`Trainer.fit` stopped: `max_epochs=50` reached.\n",
      "Global seed set to 42\n"
     ]
    },
    {
     "name": "stdout",
     "output_type": "stream",
     "text": [
      "test, 50, 0.001, pH opt, 0.80, 1.14, 0.39\n",
      "test, 50, 0.001, pH std, 0.51, 0.45, -0.04\n",
      "train, 50, 0.001, pH opt, 0.41, 0.36, 0.91\n",
      "train, 50, 0.001, pH std, 0.17, 0.07, 0.91\n"
     ]
    },
    {
     "name": "stderr",
     "output_type": "stream",
     "text": [
      "/home/jlaw/.conda/envs/tm/lib/python3.10/site-packages/lightning_fabric/plugins/environments/slurm.py:166: PossibleUserWarning: The `srun` command is available on your system but is not used. HINT: If your intention is to run Lightning on SLURM, prepend your python command with `srun` like so: srun python /home/jlaw/.conda/envs/tm/lib/python3.10/site-packag ...\n",
      "  rank_zero_warn(\n",
      "GPU available: True (cuda), used: True\n",
      "TPU available: False, using: 0 TPU cores\n",
      "IPU available: False, using: 0 IPUs\n",
      "HPU available: False, using: 0 HPUs\n",
      "LOCAL_RANK: 0 - CUDA_VISIBLE_DEVICES: [0]\n",
      "\n",
      "  | Name              | Type       | Params\n",
      "-------------------------------------------------\n",
      "0 | linear_relu_stack | Sequential | 920 K \n",
      "-------------------------------------------------\n",
      "920 K     Trainable params\n",
      "0         Non-trainable params\n",
      "920 K     Total params\n",
      "3.682     Total estimated model params size (MB)\n",
      "/home/jlaw/.conda/envs/tm/lib/python3.10/site-packages/pytorch_lightning/trainer/connectors/data_connector.py:224: PossibleUserWarning: The dataloader, train_dataloader, does not have many workers which may be a bottleneck. Consider increasing the value of the `num_workers` argument` (try 36 which is the number of cpus on this machine) in the `DataLoader` init to improve performance.\n",
      "  rank_zero_warn(\n"
     ]
    },
    {
     "data": {
      "application/vnd.jupyter.widget-view+json": {
       "model_id": "3efd8ea4f5e4414e94da1afc4d4c4450",
       "version_major": 2,
       "version_minor": 0
      },
      "text/plain": [
       "Training: 0it [00:00, ?it/s]"
      ]
     },
     "metadata": {},
     "output_type": "display_data"
    },
    {
     "name": "stderr",
     "output_type": "stream",
     "text": [
      "`Trainer.fit` stopped: `max_epochs=50` reached.\n"
     ]
    },
    {
     "name": "stdout",
     "output_type": "stream",
     "text": [
      "test, 50, 0.0001, pH opt, 0.80, 1.11, 0.37\n",
      "test, 50, 0.0001, pH std, 0.50, 0.43, 0.06\n",
      "train, 50, 0.0001, pH opt, 0.34, 0.31, 0.92\n",
      "train, 50, 0.0001, pH std, 0.19, 0.10, 0.90\n"
     ]
    }
   ],
   "source": [
    "for epochs in [50]:\n",
    "    for lr in [1e-3, 1e-4]:\n",
    "        # for batch_size in \n",
    "        head_model, trainer = fit_model(X_train, y_train, X_test, epochs=epochs, lr=lr)\n",
    "        eval_model(head_model, X_test, y_test, f\"test, {epochs}, {lr}, \")\n",
    "        eval_model(head_model, X_train, y_train, f\"train, {epochs}, {lr}, \")"
   ]
  },
  {
   "cell_type": "code",
   "execution_count": 98,
   "id": "2505e808-34d0-40b9-a32a-247154943963",
   "metadata": {},
   "outputs": [
    {
     "name": "stdout",
     "output_type": "stream",
     "text": [
      "split, # epochs, lr, eval_set, mae, mse, rho\n",
      "test, 50, 0.0001, pH opt, 0.80, 1.11, 0.37\n",
      "test, 50, 0.0001, pH std, 0.50, 0.43, 0.06\n"
     ]
    }
   ],
   "source": [
    "print(\"split, # epochs, lr, eval_set, mae, mse, rho\")\n",
    "y_pred_mean, y_pred_sigma, df_err = eval_model(head_model, X_test, y_test, f\"test, {epochs}, {lr}, \")"
   ]
  },
  {
   "cell_type": "code",
   "execution_count": 102,
   "id": "f2c4fd16-64ef-4db4-a2af-e6d775a86bec",
   "metadata": {},
   "outputs": [
    {
     "data": {
      "text/html": [
       "<div>\n",
       "<style scoped>\n",
       "    .dataframe tbody tr th:only-of-type {\n",
       "        vertical-align: middle;\n",
       "    }\n",
       "\n",
       "    .dataframe tbody tr th {\n",
       "        vertical-align: top;\n",
       "    }\n",
       "\n",
       "    .dataframe thead th {\n",
       "        text-align: right;\n",
       "    }\n",
       "</style>\n",
       "<table border=\"1\" class=\"dataframe\">\n",
       "  <thead>\n",
       "    <tr style=\"text-align: right;\">\n",
       "      <th></th>\n",
       "      <th>pH opt</th>\n",
       "      <th>pH std</th>\n",
       "      <th>ML pH opt</th>\n",
       "      <th>ML pH std</th>\n",
       "    </tr>\n",
       "  </thead>\n",
       "  <tbody>\n",
       "    <tr>\n",
       "      <th>0</th>\n",
       "      <td>5.500000</td>\n",
       "      <td>NaN</td>\n",
       "      <td>7.573602</td>\n",
       "      <td>1.191083</td>\n",
       "    </tr>\n",
       "    <tr>\n",
       "      <th>1</th>\n",
       "      <td>7.250000</td>\n",
       "      <td>NaN</td>\n",
       "      <td>7.897350</td>\n",
       "      <td>0.819812</td>\n",
       "    </tr>\n",
       "    <tr>\n",
       "      <th>2</th>\n",
       "      <td>7.500000</td>\n",
       "      <td>NaN</td>\n",
       "      <td>7.879851</td>\n",
       "      <td>1.160311</td>\n",
       "    </tr>\n",
       "    <tr>\n",
       "      <th>3</th>\n",
       "      <td>7.600000</td>\n",
       "      <td>NaN</td>\n",
       "      <td>5.866752</td>\n",
       "      <td>0.703047</td>\n",
       "    </tr>\n",
       "    <tr>\n",
       "      <th>4</th>\n",
       "      <td>7.000000</td>\n",
       "      <td>NaN</td>\n",
       "      <td>7.990245</td>\n",
       "      <td>1.707971</td>\n",
       "    </tr>\n",
       "    <tr>\n",
       "      <th>...</th>\n",
       "      <td>...</td>\n",
       "      <td>...</td>\n",
       "      <td>...</td>\n",
       "      <td>...</td>\n",
       "    </tr>\n",
       "    <tr>\n",
       "      <th>553</th>\n",
       "      <td>7.905451</td>\n",
       "      <td>0.874271</td>\n",
       "      <td>7.785497</td>\n",
       "      <td>1.847724</td>\n",
       "    </tr>\n",
       "    <tr>\n",
       "      <th>554</th>\n",
       "      <td>7.771832</td>\n",
       "      <td>1.664941</td>\n",
       "      <td>6.857756</td>\n",
       "      <td>0.835491</td>\n",
       "    </tr>\n",
       "    <tr>\n",
       "      <th>555</th>\n",
       "      <td>8.841219</td>\n",
       "      <td>1.462182</td>\n",
       "      <td>7.070836</td>\n",
       "      <td>0.646042</td>\n",
       "    </tr>\n",
       "    <tr>\n",
       "      <th>556</th>\n",
       "      <td>7.062500</td>\n",
       "      <td>NaN</td>\n",
       "      <td>5.815723</td>\n",
       "      <td>1.102091</td>\n",
       "    </tr>\n",
       "    <tr>\n",
       "      <th>557</th>\n",
       "      <td>8.000000</td>\n",
       "      <td>NaN</td>\n",
       "      <td>7.958839</td>\n",
       "      <td>1.345360</td>\n",
       "    </tr>\n",
       "  </tbody>\n",
       "</table>\n",
       "<p>558 rows × 4 columns</p>\n",
       "</div>"
      ],
      "text/plain": [
       "       pH opt    pH std  ML pH opt  ML pH std\n",
       "0    5.500000       NaN   7.573602   1.191083\n",
       "1    7.250000       NaN   7.897350   0.819812\n",
       "2    7.500000       NaN   7.879851   1.160311\n",
       "3    7.600000       NaN   5.866752   0.703047\n",
       "4    7.000000       NaN   7.990245   1.707971\n",
       "..        ...       ...        ...        ...\n",
       "553  7.905451  0.874271   7.785497   1.847724\n",
       "554  7.771832  1.664941   6.857756   0.835491\n",
       "555  8.841219  1.462182   7.070836   0.646042\n",
       "556  7.062500       NaN   5.815723   1.102091\n",
       "557  8.000000       NaN   7.958839   1.345360\n",
       "\n",
       "[558 rows x 4 columns]"
      ]
     },
     "execution_count": 102,
     "metadata": {},
     "output_type": "execute_result"
    }
   ],
   "source": [
    "df_err"
   ]
  },
  {
   "cell_type": "code",
   "execution_count": 99,
   "id": "8c3b4d01-dd2c-49c7-8313-fa97fa365a7f",
   "metadata": {},
   "outputs": [
    {
     "data": {
      "text/plain": [
       "[<matplotlib.lines.Line2D at 0x7f991abab970>]"
      ]
     },
     "execution_count": 99,
     "metadata": {},
     "output_type": "execute_result"
    },
    {
     "data": {
      "image/png": "[encoded data removed]",
      "text/plain": [
       "<Figure size 600x600 with 3 Axes>"
      ]
     },
     "metadata": {},
     "output_type": "display_data"
    }
   ],
   "source": [
    "g = sns.jointplot(df_err, x=\"pH opt\", y=\"ML pH opt\", \n",
    "              # alpha=0.3, s=5, linewidth=0, \n",
    "                  kind=\"hex\"\n",
    "             )\n",
    "g.ax_joint.plot([2,10], [2,10], ls='--', alpha=0.3, color=\"black\", linewidth=1)"
   ]
  },
  {
   "cell_type": "code",
   "execution_count": 100,
   "id": "8fecb910-af30-41aa-8633-80bdb9c90328",
   "metadata": {},
   "outputs": [
    {
     "data": {
      "text/plain": [
       "[<matplotlib.lines.Line2D at 0x7f9918f5be80>]"
      ]
     },
     "execution_count": 100,
     "metadata": {},
     "output_type": "execute_result"
    },
    {
     "data": {
      "image/png": "[encoded data removed]",
      "text/plain": [
       "<Figure size 600x600 with 3 Axes>"
      ]
     },
     "metadata": {},
     "output_type": "display_data"
    }
   ],
   "source": [
    "g = sns.jointplot(df_err, x=\"pH std\", y=\"ML pH std\", \n",
    "              alpha=0.4, s=20, linewidth=0, \n",
    "                  # kind=\"hex\",\n",
    "                  color=\"brown\",\n",
    "             )\n",
    "g.ax_joint.plot([0,3], [0,3], ls='--', alpha=0.3, color=\"black\", linewidth=1)"
   ]
  },
  {
   "cell_type": "code",
   "execution_count": 101,
   "id": "0c5186cb-3b99-43b2-8a93-a9f84a847af9",
   "metadata": {},
   "outputs": [
    {
     "data": {
      "text/plain": [
       "[<matplotlib.lines.Line2D at 0x7f9918e375e0>]"
      ]
     },
     "execution_count": 101,
     "metadata": {},
     "output_type": "execute_result"
    },
    {
     "data": {
      "image/png": "[encoded data removed]",
      "text/plain": [
       "<Figure size 600x600 with 3 Axes>"
      ]
     },
     "metadata": {},
     "output_type": "display_data"
    }
   ],
   "source": [
    "g = sns.jointplot(df_err, x=\"pH std\", y=\"ML pH std\", \n",
    "              # alpha=0.4, s=20, linewidth=0, \n",
    "                  kind=\"hex\",\n",
    "                  color=\"brown\",\n",
    "             )\n",
    "g.ax_joint.plot([0,3], [0,3], ls='--', alpha=0.3, color=\"black\", linewidth=1)"
   ]
  },
  {
   "cell_type": "code",
   "execution_count": 103,
   "id": "6cfed4d1-59e7-4cb8-8a8b-3e3f481682d0",
   "metadata": {},
   "outputs": [
    {
     "data": {
      "text/plain": [
       "558"
      ]
     },
     "execution_count": 103,
     "metadata": {},
     "output_type": "execute_result"
    }
   ],
   "source": [
    "len(df_err)"
   ]
  },
  {
   "cell_type": "code",
   "execution_count": 104,
   "id": "603ae520-ff5c-49ce-8fb6-9d470544286d",
   "metadata": {},
   "outputs": [
    {
     "data": {
      "text/html": [
       "<div>\n",
       "<style scoped>\n",
       "    .dataframe tbody tr th:only-of-type {\n",
       "        vertical-align: middle;\n",
       "    }\n",
       "\n",
       "    .dataframe tbody tr th {\n",
       "        vertical-align: top;\n",
       "    }\n",
       "\n",
       "    .dataframe thead th {\n",
       "        text-align: right;\n",
       "    }\n",
       "</style>\n",
       "<table border=\"1\" class=\"dataframe\">\n",
       "  <thead>\n",
       "    <tr style=\"text-align: right;\">\n",
       "      <th></th>\n",
       "      <th>pH opt</th>\n",
       "      <th>pH std</th>\n",
       "      <th>ML pH opt</th>\n",
       "      <th>ML pH std</th>\n",
       "    </tr>\n",
       "  </thead>\n",
       "  <tbody>\n",
       "    <tr>\n",
       "      <th>0</th>\n",
       "      <td>5.500000</td>\n",
       "      <td>NaN</td>\n",
       "      <td>7.573602</td>\n",
       "      <td>1.191083</td>\n",
       "    </tr>\n",
       "    <tr>\n",
       "      <th>1</th>\n",
       "      <td>7.250000</td>\n",
       "      <td>NaN</td>\n",
       "      <td>7.897350</td>\n",
       "      <td>0.819812</td>\n",
       "    </tr>\n",
       "    <tr>\n",
       "      <th>2</th>\n",
       "      <td>7.500000</td>\n",
       "      <td>NaN</td>\n",
       "      <td>7.879851</td>\n",
       "      <td>1.160311</td>\n",
       "    </tr>\n",
       "    <tr>\n",
       "      <th>3</th>\n",
       "      <td>7.600000</td>\n",
       "      <td>NaN</td>\n",
       "      <td>5.866752</td>\n",
       "      <td>0.703047</td>\n",
       "    </tr>\n",
       "    <tr>\n",
       "      <th>4</th>\n",
       "      <td>7.000000</td>\n",
       "      <td>NaN</td>\n",
       "      <td>7.990245</td>\n",
       "      <td>1.707971</td>\n",
       "    </tr>\n",
       "    <tr>\n",
       "      <th>...</th>\n",
       "      <td>...</td>\n",
       "      <td>...</td>\n",
       "      <td>...</td>\n",
       "      <td>...</td>\n",
       "    </tr>\n",
       "    <tr>\n",
       "      <th>553</th>\n",
       "      <td>7.905451</td>\n",
       "      <td>0.874271</td>\n",
       "      <td>7.785497</td>\n",
       "      <td>1.847724</td>\n",
       "    </tr>\n",
       "    <tr>\n",
       "      <th>554</th>\n",
       "      <td>7.771832</td>\n",
       "      <td>1.664941</td>\n",
       "      <td>6.857756</td>\n",
       "      <td>0.835491</td>\n",
       "    </tr>\n",
       "    <tr>\n",
       "      <th>555</th>\n",
       "      <td>8.841219</td>\n",
       "      <td>1.462182</td>\n",
       "      <td>7.070836</td>\n",
       "      <td>0.646042</td>\n",
       "    </tr>\n",
       "    <tr>\n",
       "      <th>556</th>\n",
       "      <td>7.062500</td>\n",
       "      <td>NaN</td>\n",
       "      <td>5.815723</td>\n",
       "      <td>1.102091</td>\n",
       "    </tr>\n",
       "    <tr>\n",
       "      <th>557</th>\n",
       "      <td>8.000000</td>\n",
       "      <td>NaN</td>\n",
       "      <td>7.958839</td>\n",
       "      <td>1.345360</td>\n",
       "    </tr>\n",
       "  </tbody>\n",
       "</table>\n",
       "<p>558 rows × 4 columns</p>\n",
       "</div>"
      ],
      "text/plain": [
       "       pH opt    pH std  ML pH opt  ML pH std\n",
       "0    5.500000       NaN   7.573602   1.191083\n",
       "1    7.250000       NaN   7.897350   0.819812\n",
       "2    7.500000       NaN   7.879851   1.160311\n",
       "3    7.600000       NaN   5.866752   0.703047\n",
       "4    7.000000       NaN   7.990245   1.707971\n",
       "..        ...       ...        ...        ...\n",
       "553  7.905451  0.874271   7.785497   1.847724\n",
       "554  7.771832  1.664941   6.857756   0.835491\n",
       "555  8.841219  1.462182   7.070836   0.646042\n",
       "556  7.062500       NaN   5.815723   1.102091\n",
       "557  8.000000       NaN   7.958839   1.345360\n",
       "\n",
       "[558 rows x 4 columns]"
      ]
     },
     "execution_count": 104,
     "metadata": {},
     "output_type": "execute_result"
    }
   ],
   "source": [
    "df_err"
   ]
  },
  {
   "cell_type": "code",
   "execution_count": 105,
   "id": "ba7f2710-91b5-4da0-849a-f38644732512",
   "metadata": {},
   "outputs": [
    {
     "data": {
      "text/plain": [
       "236"
      ]
     },
     "execution_count": 105,
     "metadata": {},
     "output_type": "execute_result"
    }
   ],
   "source": [
    "len(df_err.dropna())"
   ]
  },
  {
   "cell_type": "code",
   "execution_count": null,
   "id": "7ef90104-e83a-46e3-bd9d-42505f691958",
   "metadata": {},
   "outputs": [],
   "source": []
  }
 ],
 "metadata": {
  "kernelspec": {
   "display_name": "Python 3 (ipykernel)",
   "language": "python",
   "name": "python3"
  },
  "language_info": {
   "codemirror_mode": {
    "name": "ipython",
    "version": 3
   },
   "file_extension": ".py",
   "mimetype": "text/x-python",
   "name": "python",
   "nbconvert_exporter": "python",
   "pygments_lexer": "ipython3",
   "version": "3.10.13"
  }
 },
 "nbformat": 4,
 "nbformat_minor": 5
}
